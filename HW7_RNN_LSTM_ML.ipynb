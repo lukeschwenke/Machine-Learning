{
 "cells": [
  {
   "cell_type": "markdown",
   "metadata": {},
   "source": [
    "### Homework #7: Recurrent Neural Networtks (RNN) & Long Short-Term Memory (LSTM)\n",
    "#### Luke Schwenke\n",
    "#### Machine Learning & Predictive Analytics \n",
    "#### May 20, 2023"
   ]
  },
  {
   "cell_type": "code",
   "execution_count": 64,
   "metadata": {},
   "outputs": [],
   "source": [
    "import sys\n",
    "import os\n",
    "import json\n",
    "import pandas\n",
    "import numpy\n",
    "import optparse\n",
    "import keras\n",
    "import pandas as pd\n",
    "import matplotlib.pyplot as plt\n",
    "\n",
    "from keras.callbacks import TensorBoard\n",
    "from keras.models import Sequential, load_model\n",
    "from keras.layers import LSTM, Dense, Dropout, SimpleRNN\n",
    "from keras.layers import Embedding\n",
    "from tensorflow.keras.preprocessing.sequence import pad_sequences\n",
    "from keras.preprocessing.text import Tokenizer\n",
    "from collections import OrderedDict\n",
    "from keras import backend as k\n",
    "from sklearn.model_selection import train_test_split\n",
    "from keras import regularizers\n",
    "from tensorflow.keras.layers import Conv1D, GlobalMaxPooling1D\n",
    "from keras.layers import Bidirectional"
   ]
  },
  {
   "cell_type": "code",
   "execution_count": 2,
   "metadata": {},
   "outputs": [],
   "source": [
    "dataframe = pandas.read_csv(\"dev-access.csv\", engine='python', quotechar='|', header=None)"
   ]
  },
  {
   "cell_type": "code",
   "execution_count": 3,
   "metadata": {},
   "outputs": [
    {
     "data": {
      "text/plain": [
       "(26773, 2)"
      ]
     },
     "execution_count": 3,
     "metadata": {},
     "output_type": "execute_result"
    }
   ],
   "source": [
    "dataset = dataframe.values\n",
    "dataset.shape"
   ]
  },
  {
   "cell_type": "markdown",
   "metadata": {},
   "source": [
    "Store all rows and the 0th index as the feature data"
   ]
  },
  {
   "cell_type": "code",
   "execution_count": 4,
   "metadata": {},
   "outputs": [],
   "source": [
    "X = dataset[:,0]"
   ]
  },
  {
   "cell_type": "markdown",
   "metadata": {},
   "source": [
    "Store all rows and index 1 as the target variable"
   ]
  },
  {
   "cell_type": "code",
   "execution_count": 5,
   "metadata": {},
   "outputs": [],
   "source": [
    "Y = dataset[:,1]\n",
    "Y = Y.astype(int) # Need to convert from object to int"
   ]
  },
  {
   "cell_type": "markdown",
   "metadata": {},
   "source": [
    "In the next step, we will clean up the predictors. This includes removing features that are not valuable, such as timestamp and source. "
   ]
  },
  {
   "cell_type": "code",
   "execution_count": 6,
   "metadata": {},
   "outputs": [],
   "source": [
    "for index, item in enumerate(X):\n",
    "    # Quick hack to space out json elements\n",
    "    reqJson = json.loads(item, object_pairs_hook=OrderedDict)\n",
    "    del reqJson['timestamp']\n",
    "    del reqJson['headers']\n",
    "    del reqJson['source']\n",
    "    del reqJson['route']\n",
    "    del reqJson['responsePayload']\n",
    "    X[index] = json.dumps(reqJson, separators=(',', ':'))"
   ]
  },
  {
   "cell_type": "markdown",
   "metadata": {},
   "source": [
    "We next will tokenize our data, which just means vectorizing our text. Given the data we will tokenize every character (thus char_level = True)"
   ]
  },
  {
   "cell_type": "code",
   "execution_count": 7,
   "metadata": {},
   "outputs": [],
   "source": [
    "tokenizer = Tokenizer(filters='\\t\\n', char_level=True)\n",
    "tokenizer.fit_on_texts(X)\n",
    "\n",
    "# we will need this later\n",
    "num_words = len(tokenizer.word_index)+1\n",
    "X = tokenizer.texts_to_sequences(X)"
   ]
  },
  {
   "cell_type": "markdown",
   "metadata": {},
   "source": [
    "Need to pad our data as each observation has a different length"
   ]
  },
  {
   "cell_type": "code",
   "execution_count": 8,
   "metadata": {},
   "outputs": [],
   "source": [
    "max_log_length = 1024\n",
    "X_processed = pad_sequences(X, maxlen=max_log_length)"
   ]
  },
  {
   "cell_type": "markdown",
   "metadata": {},
   "source": [
    "Create your train set to be 75% of the data and your test set to be 25%"
   ]
  },
  {
   "cell_type": "code",
   "execution_count": 9,
   "metadata": {},
   "outputs": [],
   "source": [
    "X_train, X_test, Y_train, Y_test = train_test_split(X_processed, Y, test_size=.25, random_state=0)"
   ]
  },
  {
   "cell_type": "markdown",
   "metadata": {},
   "source": [
    "## Model #1: RNN"
   ]
  },
  {
   "cell_type": "markdown",
   "metadata": {},
   "source": [
    "The first model will be a pretty minimal RNN with only an embedding layer, simple RNN and Dense layer. The next model we will add a few more layers."
   ]
  },
  {
   "cell_type": "code",
   "execution_count": 10,
   "metadata": {},
   "outputs": [],
   "source": [
    "k.clear_session()\n",
    "model = Sequential()"
   ]
  },
  {
   "cell_type": "markdown",
   "metadata": {},
   "source": [
    "From there, add an Embedding layer: https://keras.io/layers/embeddings/Links to an external site.\n",
    "\n",
    "Params:\n",
    "- input_dim = num_words (the variable we created above)\n",
    "- output_dim = 32\n",
    "- input_length = max_log_length (we also created this above)\n",
    "- Keep all other variables as the defaults (shown below)"
   ]
  },
  {
   "cell_type": "code",
   "execution_count": 11,
   "metadata": {},
   "outputs": [],
   "source": [
    "model.add(Embedding(input_dim=num_words, \n",
    "                    output_dim=32, \n",
    "                    input_length=max_log_length))"
   ]
  },
  {
   "cell_type": "markdown",
   "metadata": {},
   "source": [
    "Add a SimpleRNN layer: https://keras.io/layers/recurrent/Links to an external site.\n",
    "\n",
    "Params:\n",
    "- units = 32\n",
    "- activation = 'relu'"
   ]
  },
  {
   "cell_type": "code",
   "execution_count": 12,
   "metadata": {},
   "outputs": [],
   "source": [
    "model.add(SimpleRNN(units=32, \n",
    "                    activation='relu'))"
   ]
  },
  {
   "cell_type": "markdown",
   "metadata": {},
   "source": [
    "Finally, we will add a Dense layer: https://keras.io/layers/core/#denseLinks to an external site.\n",
    "\n",
    "Params:\n",
    "- units = 1 (this will be our output)\n",
    "- activation --> you can choose to use either relu or sigmoid. "
   ]
  },
  {
   "cell_type": "code",
   "execution_count": 13,
   "metadata": {},
   "outputs": [],
   "source": [
    "model.add(Dense(units=1, \n",
    "                activation=\"relu\"))"
   ]
  },
  {
   "cell_type": "markdown",
   "metadata": {},
   "source": [
    "Compile model using the .compile() method: https://keras.io/models/model/Links to an external site.\n",
    "\n",
    "Params:\n",
    "- loss = binary_crossentropy\n",
    "- optimizer = adam\n",
    "- metrics = accuracy"
   ]
  },
  {
   "cell_type": "code",
   "execution_count": 14,
   "metadata": {},
   "outputs": [],
   "source": [
    "model.compile(optimizer=\"adam\", \n",
    "              loss=\"binary_crossentropy\", \n",
    "              metrics=['acc'])"
   ]
  },
  {
   "cell_type": "code",
   "execution_count": 15,
   "metadata": {},
   "outputs": [
    {
     "name": "stdout",
     "output_type": "stream",
     "text": [
      "Model: \"sequential\"\n",
      "_________________________________________________________________\n",
      " Layer (type)                Output Shape              Param #   \n",
      "=================================================================\n",
      " embedding (Embedding)       (None, 1024, 32)          2016      \n",
      "                                                                 \n",
      " simple_rnn (SimpleRNN)      (None, 32)                2080      \n",
      "                                                                 \n",
      " dense (Dense)               (None, 1)                 33        \n",
      "                                                                 \n",
      "=================================================================\n",
      "Total params: 4,129\n",
      "Trainable params: 4,129\n",
      "Non-trainable params: 0\n",
      "_________________________________________________________________\n"
     ]
    }
   ],
   "source": [
    "model.summary()"
   ]
  },
  {
   "cell_type": "code",
   "execution_count": 16,
   "metadata": {
    "scrolled": true
   },
   "outputs": [
    {
     "name": "stdout",
     "output_type": "stream",
     "text": [
      "Epoch 1/3\n",
      "118/118 [==============================] - 19s 153ms/step - loss: 0.9474 - acc: 0.5301 - val_loss: 0.5797 - val_acc: 0.6456\n",
      "Epoch 2/3\n",
      "118/118 [==============================] - 18s 149ms/step - loss: 0.5707 - acc: 0.6794 - val_loss: 0.7154 - val_acc: 0.5143\n",
      "Epoch 3/3\n",
      "118/118 [==============================] - 18s 149ms/step - loss: 0.6513 - acc: 0.6044 - val_loss: 0.6171 - val_acc: 0.6279\n"
     ]
    }
   ],
   "source": [
    "model_fit_1 = model.fit(X_train, Y_train, \n",
    "                        validation_split=.25, \n",
    "                        epochs=3, \n",
    "                        batch_size=128)"
   ]
  },
  {
   "cell_type": "markdown",
   "metadata": {},
   "source": [
    "Use the .evaluate() method to get the loss value & the accuracy value on the test data. Use a batch size of 128 again."
   ]
  },
  {
   "cell_type": "code",
   "execution_count": 17,
   "metadata": {},
   "outputs": [
    {
     "name": "stdout",
     "output_type": "stream",
     "text": [
      "53/53 [==============================] - 2s 35ms/step - loss: 0.6192 - acc: 0.6309\n"
     ]
    },
    {
     "data": {
      "text/plain": [
       "[0.6191905736923218, 0.6308634877204895]"
      ]
     },
     "execution_count": 17,
     "metadata": {},
     "output_type": "execute_result"
    }
   ],
   "source": [
    "model.evaluate(X_test, Y_test, batch_size=128)"
   ]
  },
  {
   "cell_type": "markdown",
   "metadata": {},
   "source": [
    "## Model #2: LSTM + Dropout Layers"
   ]
  },
  {
   "cell_type": "markdown",
   "metadata": {},
   "source": [
    "Now we will add a few new layers to our RNN and incorporate the more powerful LSTM. You will be creating a new model here, so make sure to call it something different than the model from Part 2."
   ]
  },
  {
   "cell_type": "markdown",
   "metadata": {},
   "source": [
    "This RNN needs to have the following layers (add in this order):\n",
    "\n",
    "- Embedding Layer (use same params as before)\n",
    "- LSTM Layer (units = 64, recurrent_dropout = 0.5)\n",
    "- Dropout Layer - use a value of 0.5\n",
    "- Dense Layer - (use same params as before)"
   ]
  },
  {
   "cell_type": "code",
   "execution_count": 18,
   "metadata": {},
   "outputs": [],
   "source": [
    "k.clear_session()\n",
    "\n",
    "model2 = Sequential()\n",
    "\n",
    "model2.add(Embedding(input_dim=num_words, \n",
    "                    output_dim=32, \n",
    "                    input_length=max_log_length))\n",
    "\n",
    "model2.add(LSTM(units=64, \n",
    "                recurrent_dropout=0.5))\n",
    "\n",
    "model2.add(Dropout(0.5))\n",
    "\n",
    "model2.add(Dense(units=1, \n",
    "                 activation=\"relu\"))"
   ]
  },
  {
   "cell_type": "code",
   "execution_count": 19,
   "metadata": {},
   "outputs": [
    {
     "name": "stdout",
     "output_type": "stream",
     "text": [
      "Model: \"sequential\"\n",
      "_________________________________________________________________\n",
      " Layer (type)                Output Shape              Param #   \n",
      "=================================================================\n",
      " embedding (Embedding)       (None, 1024, 32)          2016      \n",
      "                                                                 \n",
      " lstm (LSTM)                 (None, 64)                24832     \n",
      "                                                                 \n",
      " dropout (Dropout)           (None, 64)                0         \n",
      "                                                                 \n",
      " dense (Dense)               (None, 1)                 65        \n",
      "                                                                 \n",
      "=================================================================\n",
      "Total params: 26,913\n",
      "Trainable params: 26,913\n",
      "Non-trainable params: 0\n",
      "_________________________________________________________________\n"
     ]
    }
   ],
   "source": [
    "model2.compile(optimizer=\"adam\", \n",
    "               loss=\"binary_crossentropy\", \n",
    "               metrics=[\"acc\"])\n",
    "\n",
    "model2.summary()"
   ]
  },
  {
   "cell_type": "code",
   "execution_count": 20,
   "metadata": {},
   "outputs": [
    {
     "name": "stdout",
     "output_type": "stream",
     "text": [
      "Epoch 1/3\n",
      "118/118 [==============================] - 144s 1s/step - loss: 0.7696 - acc: 0.5739 - val_loss: 0.4760 - val_acc: 0.7309\n",
      "Epoch 2/3\n",
      "118/118 [==============================] - 152s 1s/step - loss: 0.5709 - acc: 0.7340 - val_loss: 0.4315 - val_acc: 0.8311\n",
      "Epoch 3/3\n",
      "118/118 [==============================] - 155s 1s/step - loss: 0.7094 - acc: 0.6552 - val_loss: 0.5967 - val_acc: 0.6305\n"
     ]
    }
   ],
   "source": [
    "model_fit_2 = model2.fit(X_train, Y_train, \n",
    "                         validation_split=.25, \n",
    "                         epochs=3, \n",
    "                         batch_size=128)"
   ]
  },
  {
   "cell_type": "code",
   "execution_count": 21,
   "metadata": {},
   "outputs": [
    {
     "name": "stdout",
     "output_type": "stream",
     "text": [
      "53/53 [==============================] - 9s 165ms/step - loss: 0.6001 - acc: 0.6277\n"
     ]
    },
    {
     "data": {
      "text/plain": [
       "[0.6001400947570801, 0.6277263164520264]"
      ]
     },
     "execution_count": 21,
     "metadata": {},
     "output_type": "execute_result"
    }
   ],
   "source": [
    "model2.evaluate(X_test, Y_test, batch_size=128)"
   ]
  },
  {
   "cell_type": "markdown",
   "metadata": {},
   "source": [
    "## Model #3: Custom RNN"
   ]
  },
  {
   "cell_type": "markdown",
   "metadata": {},
   "source": [
    "RNN Requirements:\n",
    "- Use 5 or more layers\n",
    "- Add a layer that was not utilized in Model 1 or Model 2 (Note: This could be a new Dense layer or an additional LSTM)"
   ]
  },
  {
   "cell_type": "code",
   "execution_count": 22,
   "metadata": {},
   "outputs": [],
   "source": [
    "k.clear_session()\n",
    "\n",
    "model3 = Sequential()\n",
    "\n",
    "model3.add(Embedding(input_dim=num_words, \n",
    "                     output_dim=32, \n",
    "                     input_length=max_log_length))\n",
    "\n",
    "model3.add(LSTM(units=64, \n",
    "                recurrent_dropout=0.5))\n",
    "\n",
    "model3.add(Dropout(0.5))\n",
    "\n",
    "model3.add(Dense(units=1, \n",
    "                 activation=\"sigmoid\"))\n",
    "\n",
    "model3.add(Dense(units=64,\n",
    "                 activation='relu',\n",
    "                 kernel_regularizer=regularizers.l2(0.01)))\n",
    "\n",
    "model3.add(Dense(units=1,\n",
    "                 activation='sigmoid'))"
   ]
  },
  {
   "cell_type": "code",
   "execution_count": 23,
   "metadata": {},
   "outputs": [
    {
     "name": "stdout",
     "output_type": "stream",
     "text": [
      "Model: \"sequential\"\n",
      "_________________________________________________________________\n",
      " Layer (type)                Output Shape              Param #   \n",
      "=================================================================\n",
      " embedding (Embedding)       (None, 1024, 32)          2016      \n",
      "                                                                 \n",
      " lstm (LSTM)                 (None, 64)                24832     \n",
      "                                                                 \n",
      " dropout (Dropout)           (None, 64)                0         \n",
      "                                                                 \n",
      " dense (Dense)               (None, 1)                 65        \n",
      "                                                                 \n",
      " dense_1 (Dense)             (None, 64)                128       \n",
      "                                                                 \n",
      " dense_2 (Dense)             (None, 1)                 65        \n",
      "                                                                 \n",
      "=================================================================\n",
      "Total params: 27,106\n",
      "Trainable params: 27,106\n",
      "Non-trainable params: 0\n",
      "_________________________________________________________________\n"
     ]
    }
   ],
   "source": [
    "model3.compile(optimizer=\"sgd\", \n",
    "               loss=\"binary_crossentropy\", \n",
    "               metrics=[\"acc\", \"mse\"])\n",
    "\n",
    "model3.summary()"
   ]
  },
  {
   "cell_type": "code",
   "execution_count": 24,
   "metadata": {},
   "outputs": [
    {
     "name": "stdout",
     "output_type": "stream",
     "text": [
      "Epoch 1/5\n",
      "118/118 [==============================] - 163s 1s/step - loss: 0.7113 - acc: 0.4998 - mse: 0.2500 - val_loss: 0.7110 - val_acc: 0.4916 - val_mse: 0.2500\n",
      "Epoch 2/5\n",
      "118/118 [==============================] - 163s 1s/step - loss: 0.7105 - acc: 0.5024 - mse: 0.2500 - val_loss: 0.7102 - val_acc: 0.4916 - val_mse: 0.2500\n",
      "Epoch 3/5\n",
      "118/118 [==============================] - 163s 1s/step - loss: 0.7097 - acc: 0.5024 - mse: 0.2500 - val_loss: 0.7093 - val_acc: 0.4916 - val_mse: 0.2500\n",
      "Epoch 4/5\n",
      "118/118 [==============================] - 164s 1s/step - loss: 0.7089 - acc: 0.5008 - mse: 0.2500 - val_loss: 0.7086 - val_acc: 0.4916 - val_mse: 0.2500\n",
      "Epoch 5/5\n",
      "118/118 [==============================] - 169s 1s/step - loss: 0.7082 - acc: 0.5024 - mse: 0.2500 - val_loss: 0.7079 - val_acc: 0.4916 - val_mse: 0.2500\n"
     ]
    }
   ],
   "source": [
    "model_fit_3 = model3.fit(X_train, Y_train, \n",
    "                         validation_split=.25, \n",
    "                         epochs=5, \n",
    "                         batch_size=128)"
   ]
  },
  {
   "cell_type": "code",
   "execution_count": 25,
   "metadata": {},
   "outputs": [
    {
     "name": "stdout",
     "output_type": "stream",
     "text": [
      "53/53 [==============================] - 10s 181ms/step - loss: 0.7078 - acc: 0.5048 - mse: 0.2500\n"
     ]
    },
    {
     "data": {
      "text/plain": [
       "[0.7078143954277039, 0.5047804117202759, 0.24998421967029572]"
      ]
     },
     "execution_count": 25,
     "metadata": {},
     "output_type": "execute_result"
    }
   ],
   "source": [
    "model3.evaluate(X_test, Y_test, batch_size=128)"
   ]
  },
  {
   "cell_type": "markdown",
   "metadata": {},
   "source": [
    "## Concepts"
   ]
  },
  {
   "cell_type": "markdown",
   "metadata": {},
   "source": [
    "#### Explain the difference between the relu activation function and the sigmoid activation function.\n",
    "\n",
    "* The **Rectified Linear Unit (ReLU) function** is defined as the positive part of its input, i.e., for input x, the function returns max(0, x). This means that ReLU is zero when x is less than zero, and x when x is greater than or equal to zero. The advantage of Relu is it is efficient because it can be implemented by thresholding a matrix of activations at 0. It also helps mitigate vanishing gradients where the gradients get smaller as they are passed back through layers of backpropagation. One issue with ReLU is that it can cause dead neurons, i.e., neurons that are not activated and therefore do not learn, especially when the learning rate is set too high. This is known as the \"dying ReLU\" problem.\n",
    "\n",
    "\n",
    "* The **Sigmoid function** maps an input value between the range 0 and 1. This is useful for use in the last layer of a binary classification network where the output can be interpreted as the probability of class 1. The advantages are the outputs are bounded easily between 0 and 1 making it interpretable. The function can also be differentiated anywhere which is useful for gradient-based optimization. This function can suffer from vanishing gradients which can make the network refuse to learn further or be too slow to be useful during the backpropagation phase. Also, sigmoid does not zero-center the outputs which might make optimization harder.\n",
    "\n",
    "\n",
    "#### Describe what one epoch actually is (epoch was a parameter used in the .fit() method).\n",
    "\n",
    "* **An epoch refers to one complete pass through the entire training dataset while training a model**. With a method like gradient descent, this means that every example in your training dataset has had a chance to update the model's weights. After one epoch, the algorithm will have learned patterns from the entire dataset, but usually, multiple epochs are necessary to sufficiently train the model, especially on larger datasets. The number of epochs set is basically the number of times this learning cycle will be repeated.\n",
    "\n",
    "#### Explain how dropout works (you can look at the keras code and/or documentation) for (a) training, and (b) test data sets.\n",
    "\n",
    "* When training with dropout, during each batch of training, **some number of layer outputs are randomly ignored or \"dropped out\"**, meaning they're set to zero. In Keras, dropout is implemented as a separate layer that can be added to the neural network. When the dropout layer is specified with a rate of 0.2, it means approximately 20% of the input units to that layer will be dropped out during training. This helps prevent overfitting.\n",
    "\n",
    "* **Dropping out is only done during training**. When evaluating the network on Test or use it to make predictions, the dropout layer is ignored and all neurons are used. However, the impact of dropout during training is that the network becomes less sensitive to the specific weights of neurons.\n",
    "\n",
    "#### Explain why problems such as this homework assignment are better modeled with RNNs than CNNs. What type of problem will CNNs outperform RNNs on?\n",
    "\n",
    "* Since this dataset includes time-series data from a log-file, the task is best suited for RNNs given they are able to store memory and provide feedback loops that allow information to be passed from one step in the sequence to the next. **This temporal (sequence-like) behavior makes the CNN's useful for tasks like this where the context and order are important.**\n",
    "\n",
    "\n",
    "* CNN's are strong at handling spatial hierarchies and structures in data, which makes them superior RNN's for tasks that primarily involving image or video processing (image classification, object detection, image segmentation). They excel at these tasks because they are designed to automatically and adaptively learn spatial hierarchies of features from the input data, leveraging local connectivity and weight sharing. This means **CNN's can learn to recognize patterns like edges, shapes, and textures** in images that are important for distinguishing between different objects or classes.\n",
    "\n",
    "#### Explain what RNN problem is solved using LSTM and briefly describe how.\n",
    "\n",
    "* **RNNs face problems when dealing with long sequences of data with the vasishing gradient problem**. This issue arises during the training process, where the gradient - the value used to update the network's weights - becomes vanishingly small as it is propagated back through time. As a result, **the weights for earlier layers (those responsible for learning from earlier parts of the sequence) are hardly updated, meaning the network struggles to learn and maintain information over long sequences.**\n",
    "\n",
    "* Long Short-Term Memory units (LSTMs), a special kind of RNN, are designed to combat this problem by introducing a concept of a \"cell state,\" a kind of conveyor belt that runs through the top of the LSTM unit, **allowing information to flow through the network unimpeded by the transformations happening in the rest of the unit**. Additionally, LSTMs have a set of \"gates\" (input, forget, and output gates) that control the flow of information into and out of the cell state. These gates are neural networks themselves and decide what information gets remembered, what gets added to the cell state, and what gets output. **These mechanisms allow LSTMs to effectively learn and remember information over long sequences, mitigating the vanishing gradient problem** and making them well-suited for tasks involving long-term dependencies."
   ]
  },
  {
   "cell_type": "markdown",
   "metadata": {},
   "source": [
    "## Time Series with LSTMs"
   ]
  },
  {
   "cell_type": "markdown",
   "metadata": {},
   "source": [
    "Import, clean and plot the input data"
   ]
  },
  {
   "cell_type": "code",
   "execution_count": 46,
   "metadata": {},
   "outputs": [],
   "source": [
    "h = pd.read_csv('DAYTON_hourly.csv')"
   ]
  },
  {
   "cell_type": "code",
   "execution_count": 47,
   "metadata": {},
   "outputs": [
    {
     "data": {
      "text/html": [
       "<div>\n",
       "<style scoped>\n",
       "    .dataframe tbody tr th:only-of-type {\n",
       "        vertical-align: middle;\n",
       "    }\n",
       "\n",
       "    .dataframe tbody tr th {\n",
       "        vertical-align: top;\n",
       "    }\n",
       "\n",
       "    .dataframe thead th {\n",
       "        text-align: right;\n",
       "    }\n",
       "</style>\n",
       "<table border=\"1\" class=\"dataframe\">\n",
       "  <thead>\n",
       "    <tr style=\"text-align: right;\">\n",
       "      <th></th>\n",
       "      <th>Datetime</th>\n",
       "      <th>DAYTON_MW</th>\n",
       "    </tr>\n",
       "  </thead>\n",
       "  <tbody>\n",
       "    <tr>\n",
       "      <th>0</th>\n",
       "      <td>2004-12-31 01:00:00</td>\n",
       "      <td>1596.0</td>\n",
       "    </tr>\n",
       "    <tr>\n",
       "      <th>1</th>\n",
       "      <td>2004-12-31 02:00:00</td>\n",
       "      <td>1517.0</td>\n",
       "    </tr>\n",
       "    <tr>\n",
       "      <th>2</th>\n",
       "      <td>2004-12-31 03:00:00</td>\n",
       "      <td>1486.0</td>\n",
       "    </tr>\n",
       "    <tr>\n",
       "      <th>3</th>\n",
       "      <td>2004-12-31 04:00:00</td>\n",
       "      <td>1469.0</td>\n",
       "    </tr>\n",
       "    <tr>\n",
       "      <th>4</th>\n",
       "      <td>2004-12-31 05:00:00</td>\n",
       "      <td>1472.0</td>\n",
       "    </tr>\n",
       "    <tr>\n",
       "      <th>5</th>\n",
       "      <td>2004-12-31 06:00:00</td>\n",
       "      <td>1518.0</td>\n",
       "    </tr>\n",
       "    <tr>\n",
       "      <th>6</th>\n",
       "      <td>2004-12-31 07:00:00</td>\n",
       "      <td>1598.0</td>\n",
       "    </tr>\n",
       "    <tr>\n",
       "      <th>7</th>\n",
       "      <td>2004-12-31 08:00:00</td>\n",
       "      <td>1691.0</td>\n",
       "    </tr>\n",
       "    <tr>\n",
       "      <th>8</th>\n",
       "      <td>2004-12-31 09:00:00</td>\n",
       "      <td>1748.0</td>\n",
       "    </tr>\n",
       "    <tr>\n",
       "      <th>9</th>\n",
       "      <td>2004-12-31 10:00:00</td>\n",
       "      <td>1825.0</td>\n",
       "    </tr>\n",
       "  </tbody>\n",
       "</table>\n",
       "</div>"
      ],
      "text/plain": [
       "              Datetime  DAYTON_MW\n",
       "0  2004-12-31 01:00:00     1596.0\n",
       "1  2004-12-31 02:00:00     1517.0\n",
       "2  2004-12-31 03:00:00     1486.0\n",
       "3  2004-12-31 04:00:00     1469.0\n",
       "4  2004-12-31 05:00:00     1472.0\n",
       "5  2004-12-31 06:00:00     1518.0\n",
       "6  2004-12-31 07:00:00     1598.0\n",
       "7  2004-12-31 08:00:00     1691.0\n",
       "8  2004-12-31 09:00:00     1748.0\n",
       "9  2004-12-31 10:00:00     1825.0"
      ]
     },
     "execution_count": 47,
     "metadata": {},
     "output_type": "execute_result"
    }
   ],
   "source": [
    "h.head(10)"
   ]
  },
  {
   "cell_type": "code",
   "execution_count": 48,
   "metadata": {},
   "outputs": [
    {
     "data": {
      "text/plain": [
       "(121275, 2)"
      ]
     },
     "execution_count": 48,
     "metadata": {},
     "output_type": "execute_result"
    }
   ],
   "source": [
    "h.shape"
   ]
  },
  {
   "cell_type": "markdown",
   "metadata": {},
   "source": [
    "Train test split (use helper function)"
   ]
  },
  {
   "cell_type": "code",
   "execution_count": 49,
   "metadata": {},
   "outputs": [],
   "source": [
    "import pandas as pd\n",
    "import numpy as np\n",
    "from typing import Tuple\n",
    "\n",
    "\n",
    "def create_data_for_NN(\n",
    "    data: pd.DataFrame, Y_var: str, lag: int, test_ratio: float\n",
    ") -> Tuple[np.array, np.array, np.array, np.array]:\n",
    "    \"\"\"Function to return lagged time series data after train-test split\n",
    "\n",
    "    Args:\n",
    "        data (pd.DataFrame): Raw time series data frame\n",
    "        Y_var (str): String with the name of y variable\n",
    "        lag (int): number of lagged records to consider\n",
    "        test_ratio (float): ratio of data to consider for test set\n",
    "\n",
    "    Returns:\n",
    "        Tuple[np.array, np.array, np.array, np.array]: Lagged and split numpy arrays\n",
    "    \"\"\"\n",
    "    y = data[Y_var].tolist()\n",
    "\n",
    "    X, Y = [], []\n",
    "\n",
    "    if len(y) - lag <= 0:\n",
    "        X.append(y)\n",
    "    else:\n",
    "        for i in range(len(y) - lag):\n",
    "            Y.append(y[i + lag])\n",
    "            X.append(y[i : (i + lag)])\n",
    "\n",
    "    X, Y = np.array(X), np.array(Y)\n",
    "\n",
    "    # Reshaping the X array to an LSTM input shape\n",
    "    X = np.reshape(X, (X.shape[0], X.shape[1], 1))\n",
    "\n",
    "    # Creating training and test sets\n",
    "    X_train = X\n",
    "    X_test = []\n",
    "\n",
    "    Y_train = Y\n",
    "    Y_test = []\n",
    "\n",
    "    if test_ratio > 0:\n",
    "        index = round(len(X) * test_ratio)\n",
    "        X_train = X[: (len(X) - index)]\n",
    "        X_test = X[-index:]\n",
    "\n",
    "        Y_train = Y[: (len(X) - index)]\n",
    "        Y_test = Y[-index:]\n",
    "\n",
    "    return X_train, X_test, Y_train, Y_test\n"
   ]
  },
  {
   "cell_type": "markdown",
   "metadata": {},
   "source": [
    "#### Fit a single layer LSTM with lag = 3 hours"
   ]
  },
  {
   "cell_type": "code",
   "execution_count": 50,
   "metadata": {},
   "outputs": [],
   "source": [
    "k.clear_session()\n",
    "\n",
    "lag = 3\n",
    "test_ratio = 0.15\n",
    "\n",
    "data = pd.read_csv(\"DAYTON_hourly.csv\")\n",
    "data.Datetime = pd.to_datetime(data.Datetime)\n",
    "data.sort_values(by=\"Datetime\", inplace=True)\n",
    "\n",
    "X_train, X_test, Y_train, Y_test = create_data_for_NN(\n",
    "    data, data.columns[-1], lag, test_ratio\n",
    ")"
   ]
  },
  {
   "cell_type": "code",
   "execution_count": 51,
   "metadata": {},
   "outputs": [],
   "source": [
    "time_model_1 = Sequential()\n",
    "time_model_1.add(LSTM(units=64, activation='relu'))\n",
    "time_model_1.add(Dense(units=1))\n",
    "\n",
    "time_model_1.compile(loss='mean_squared_error', optimizer='adam')"
   ]
  },
  {
   "cell_type": "code",
   "execution_count": 52,
   "metadata": {},
   "outputs": [
    {
     "name": "stdout",
     "output_type": "stream",
     "text": [
      "Epoch 1/10\n",
      "806/806 [==============================] - 3s 2ms/step - loss: 235373.7969\n",
      "Epoch 2/10\n",
      "806/806 [==============================] - 2s 2ms/step - loss: 4301.1553\n",
      "Epoch 3/10\n",
      "806/806 [==============================] - 2s 2ms/step - loss: 9948.6455\n",
      "Epoch 4/10\n",
      "806/806 [==============================] - 2s 2ms/step - loss: 4199.9097\n",
      "Epoch 5/10\n",
      "806/806 [==============================] - 2s 2ms/step - loss: 4057.0693\n",
      "Epoch 6/10\n",
      "806/806 [==============================] - 2s 2ms/step - loss: 3935.1521\n",
      "Epoch 7/10\n",
      "806/806 [==============================] - 2s 2ms/step - loss: 3775.2422\n",
      "Epoch 8/10\n",
      "806/806 [==============================] - 2s 2ms/step - loss: 3672.0737\n",
      "Epoch 9/10\n",
      "806/806 [==============================] - 2s 2ms/step - loss: 3431.5989\n",
      "Epoch 10/10\n",
      "806/806 [==============================] - 2s 2ms/step - loss: 3445.6973\n"
     ]
    },
    {
     "data": {
      "text/plain": [
       "<keras.callbacks.History at 0x20436e10850>"
      ]
     },
     "execution_count": 52,
     "metadata": {},
     "output_type": "execute_result"
    }
   ],
   "source": [
    "time_model_1.fit(X_train, Y_train, epochs=10, batch_size=128)"
   ]
  },
  {
   "cell_type": "code",
   "execution_count": 53,
   "metadata": {},
   "outputs": [
    {
     "name": "stdout",
     "output_type": "stream",
     "text": [
      "143/143 [==============================] - 0s 1ms/step - loss: 2342.8857\n",
      "\n",
      "RMSE of Single Layer LSTM with Lag 3 Hours = 48.403364988268116\n"
     ]
    }
   ],
   "source": [
    "print('\\nRMSE of Single Layer LSTM with Lag 3 Hours =', \n",
    "      np.sqrt(time_model_1.evaluate(X_test, Y_test, batch_size=128)))"
   ]
  },
  {
   "cell_type": "markdown",
   "metadata": {},
   "source": [
    "#### Fit a single layer LSTM with lag = 24 hours"
   ]
  },
  {
   "cell_type": "code",
   "execution_count": 54,
   "metadata": {},
   "outputs": [],
   "source": [
    "k.clear_session()\n",
    "\n",
    "lag = 24\n",
    "test_ratio = 0.15\n",
    "\n",
    "data = pd.read_csv(\"DAYTON_hourly.csv\")\n",
    "data.Datetime = pd.to_datetime(data.Datetime)\n",
    "data.sort_values(by=\"Datetime\", inplace=True)\n",
    "\n",
    "X_train, X_test, Y_train, Y_test = create_data_for_NN(\n",
    "    data, data.columns[-1], lag, test_ratio\n",
    ")"
   ]
  },
  {
   "cell_type": "code",
   "execution_count": 55,
   "metadata": {},
   "outputs": [],
   "source": [
    "time_model_2 = Sequential()\n",
    "time_model_2.add(LSTM(units=64, activation='relu'))\n",
    "time_model_2.add(Dense(units=1))\n",
    "\n",
    "time_model_2.compile(loss='mean_squared_error', optimizer='adam')"
   ]
  },
  {
   "cell_type": "code",
   "execution_count": 56,
   "metadata": {},
   "outputs": [
    {
     "name": "stdout",
     "output_type": "stream",
     "text": [
      "Epoch 1/10\n",
      "806/806 [==============================] - 10s 11ms/step - loss: 2668156.7500\n",
      "Epoch 2/10\n",
      "806/806 [==============================] - 9s 11ms/step - loss: 64471.8242\n",
      "Epoch 3/10\n",
      "806/806 [==============================] - 10s 12ms/step - loss: 49855.3867\n",
      "Epoch 4/10\n",
      "806/806 [==============================] - 10s 12ms/step - loss: 36417.0273\n",
      "Epoch 5/10\n",
      "806/806 [==============================] - 10s 12ms/step - loss: 37463.4883\n",
      "Epoch 6/10\n",
      "806/806 [==============================] - 10s 13ms/step - loss: 68124.9766\n",
      "Epoch 7/10\n",
      "806/806 [==============================] - 10s 13ms/step - loss: 43383.4727\n",
      "Epoch 8/10\n",
      "806/806 [==============================] - 11s 13ms/step - loss: 32626.7871\n",
      "Epoch 9/10\n",
      "806/806 [==============================] - 11s 13ms/step - loss: 28258.9414\n",
      "Epoch 10/10\n",
      "806/806 [==============================] - 11s 13ms/step - loss: 29712.3906\n"
     ]
    },
    {
     "data": {
      "text/plain": [
       "<keras.callbacks.History at 0x20433024700>"
      ]
     },
     "execution_count": 56,
     "metadata": {},
     "output_type": "execute_result"
    }
   ],
   "source": [
    "time_model_2.fit(X_train, Y_train, epochs=10, batch_size=128)"
   ]
  },
  {
   "cell_type": "code",
   "execution_count": 57,
   "metadata": {},
   "outputs": [
    {
     "name": "stdout",
     "output_type": "stream",
     "text": [
      "143/143 [==============================] - 1s 6ms/step - loss: 26928.1152\n",
      "\n",
      "RMSE of Single Layer LSTM with Lag 24 Hours = 164.0978830892556\n"
     ]
    }
   ],
   "source": [
    "print('\\nRMSE of Single Layer LSTM with Lag 24 Hours =', \n",
    "      np.sqrt(time_model_2.evaluate(X_test, Y_test, batch_size=128)))"
   ]
  },
  {
   "cell_type": "markdown",
   "metadata": {},
   "source": [
    "#### Fit a Bidirectional layer LSTM with lag = 24 hours"
   ]
  },
  {
   "cell_type": "code",
   "execution_count": 58,
   "metadata": {},
   "outputs": [],
   "source": [
    "k.clear_session()"
   ]
  },
  {
   "cell_type": "code",
   "execution_count": 59,
   "metadata": {},
   "outputs": [],
   "source": [
    "time_model_3 = Sequential()\n",
    "time_model_3.add(Bidirectional(LSTM(units=64, activation='relu')))\n",
    "time_model_3.add(Dense(units=1))\n",
    "\n",
    "time_model_3.compile(loss='mean_squared_error', optimizer='adam')"
   ]
  },
  {
   "cell_type": "code",
   "execution_count": 60,
   "metadata": {},
   "outputs": [
    {
     "name": "stdout",
     "output_type": "stream",
     "text": [
      "Epoch 1/10\n",
      "806/806 [==============================] - 18s 20ms/step - loss: 597620.0625\n",
      "Epoch 2/10\n",
      "806/806 [==============================] - 16s 20ms/step - loss: 31191.4062\n",
      "Epoch 3/10\n",
      "806/806 [==============================] - 16s 20ms/step - loss: 20429.1348\n",
      "Epoch 4/10\n",
      "806/806 [==============================] - 16s 20ms/step - loss: 12513.9297\n",
      "Epoch 5/10\n",
      "806/806 [==============================] - 17s 20ms/step - loss: 9520.5664\n",
      "Epoch 6/10\n",
      "806/806 [==============================] - 17s 21ms/step - loss: 7178.2935\n",
      "Epoch 7/10\n",
      "806/806 [==============================] - 17s 20ms/step - loss: 5231.4673\n",
      "Epoch 8/10\n",
      "806/806 [==============================] - 17s 21ms/step - loss: 4171.1421\n",
      "Epoch 9/10\n",
      "806/806 [==============================] - 17s 21ms/step - loss: 3825.0071\n",
      "Epoch 10/10\n",
      "806/806 [==============================] - 17s 21ms/step - loss: 6390.2573\n"
     ]
    },
    {
     "data": {
      "text/plain": [
       "<keras.callbacks.History at 0x2043318d100>"
      ]
     },
     "execution_count": 60,
     "metadata": {},
     "output_type": "execute_result"
    }
   ],
   "source": [
    "time_model_3.fit(X_train, Y_train, epochs=10, batch_size=128)"
   ]
  },
  {
   "cell_type": "code",
   "execution_count": 62,
   "metadata": {
    "scrolled": true
   },
   "outputs": [
    {
     "name": "stdout",
     "output_type": "stream",
     "text": [
      "143/143 [==============================] - 1s 6ms/step - loss: 4885.8027\n",
      "\n",
      "RMSE of Bidirectional Layer LSTM with Lag 24 Hours = 69.8985173975457\n"
     ]
    }
   ],
   "source": [
    "print('\\nRMSE of Bidirectional Layer LSTM with Lag 24 Hours =', \n",
    "      np.sqrt(time_model_3.evaluate(X_test, Y_test, batch_size=128)))"
   ]
  },
  {
   "cell_type": "markdown",
   "metadata": {},
   "source": [
    "#### Results"
   ]
  },
  {
   "cell_type": "markdown",
   "metadata": {},
   "source": [
    "The best performing time series LSTM model was the **Single Layer LSTM with a Lag of 3 hours**. This model had an **RMSE of 48.4** compared to the Single Layer 24-hour Lag LSTM's RMSE of 164.1 and the Bidirectional Layer 24-hour Lag LSTM's RMSE of 69.8. Overall we can conclude that the Single Layer LSTM with the 3-hour lag captures the patterns in the time series dataset best."
   ]
  },
  {
   "cell_type": "code",
   "execution_count": 68,
   "metadata": {},
   "outputs": [
    {
     "name": "stdout",
     "output_type": "stream",
     "text": [
      "143/143 [==============================] - 1s 5ms/step\n",
      "143/143 [==============================] - 1s 5ms/step\n",
      "143/143 [==============================] - 1s 6ms/step\n"
     ]
    }
   ],
   "source": [
    "preds_time_1 = time_model_1.predict(X_test, batch_size=128)\n",
    "preds_time_2 = time_model_2.predict(X_test, batch_size=128)\n",
    "preds_time_3 = time_model_3.predict(X_test, batch_size=128)"
   ]
  },
  {
   "cell_type": "code",
   "execution_count": 78,
   "metadata": {},
   "outputs": [
    {
     "data": {
      "image/png": "[encoded data removed]",
      "text/plain": [
       "<Figure size 432x288 with 1 Axes>"
      ]
     },
     "metadata": {
      "needs_background": "light"
     },
     "output_type": "display_data"
    }
   ],
   "source": [
    "plt.plot(Y_test, label='True')\n",
    "plt.plot(preds_time_1, label='Predicted')\n",
    "plt.title('Test Results - LSTM Lag 3-Hours')\n",
    "plt.xlabel('Time')\n",
    "plt.ylabel('Value')\n",
    "plt.legend()\n",
    "plt.show()"
   ]
  },
  {
   "cell_type": "code",
   "execution_count": 79,
   "metadata": {},
   "outputs": [
    {
     "data": {
      "image/png": "[encoded data removed]",
      "text/plain": [
       "<Figure size 432x288 with 1 Axes>"
      ]
     },
     "metadata": {
      "needs_background": "light"
     },
     "output_type": "display_data"
    }
   ],
   "source": [
    "plt.plot(Y_test, label='True')\n",
    "plt.plot(preds_time_2, label='Predicted')\n",
    "plt.title('Test Results - LSTM Lag 24-Hours')\n",
    "plt.xlabel('Time')\n",
    "plt.ylabel('Value')\n",
    "plt.legend()\n",
    "plt.show()"
   ]
  },
  {
   "cell_type": "code",
   "execution_count": 80,
   "metadata": {},
   "outputs": [
    {
     "data": {
      "image/png": "[encoded data removed]",
      "text/plain": [
       "<Figure size 432x288 with 1 Axes>"
      ]
     },
     "metadata": {
      "needs_background": "light"
     },
     "output_type": "display_data"
    }
   ],
   "source": [
    "plt.plot(Y_test, label='True')\n",
    "plt.plot(preds_time_3, label='Predicted')\n",
    "plt.title('Test Results - Bidirectional LSTM Lag 24-Hours')\n",
    "plt.xlabel('Time')\n",
    "plt.ylabel('Value')\n",
    "plt.legend()\n",
    "plt.show()"
   ]
  }
 ],
 "metadata": {
  "kernelspec": {
   "display_name": "Python 3",
   "language": "python",
   "name": "python3"
  },
  "language_info": {
   "codemirror_mode": {
    "name": "ipython",
    "version": 3
   },
   "file_extension": ".py",
   "mimetype": "text/x-python",
   "name": "python",
   "nbconvert_exporter": "python",
   "pygments_lexer": "ipython3",
   "version": "3.8.3"
  }
 },
 "nbformat": 4,
 "nbformat_minor": 4
}
