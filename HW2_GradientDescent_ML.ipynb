{
 "cells": [
  {
   "cell_type": "markdown",
   "id": "36650e9e",
   "metadata": {},
   "source": [
    "## Luke Schwenke\n",
    "### Machine Learning: Homework 2 - Gradient Descent\n",
    "### April 15, 2023"
   ]
  },
  {
   "cell_type": "code",
   "execution_count": 1,
   "id": "df25e4be",
   "metadata": {},
   "outputs": [],
   "source": [
    "import pandas as pd\n",
    "import os\n",
    "import matplotlib.pyplot as plt\n",
    "import seaborn as sea"
   ]
  },
  {
   "cell_type": "code",
   "execution_count": 2,
   "id": "2f274243",
   "metadata": {},
   "outputs": [
    {
     "data": {
      "text/plain": [
       "'/Users/lmschwenke'"
      ]
     },
     "execution_count": 2,
     "metadata": {},
     "output_type": "execute_result"
    }
   ],
   "source": [
    "os.getcwd()"
   ]
  },
  {
   "cell_type": "code",
   "execution_count": 3,
   "id": "27849126",
   "metadata": {},
   "outputs": [],
   "source": [
    "os.chdir('/Users/lmschwenke/downloads')"
   ]
  },
  {
   "cell_type": "code",
   "execution_count": 4,
   "id": "5cb8d684",
   "metadata": {},
   "outputs": [],
   "source": [
    "df = pd.read_csv('bottle.csv', low_memory=False)"
   ]
  },
  {
   "cell_type": "markdown",
   "id": "685eaa81",
   "metadata": {},
   "source": [
    "# Part A - Data Cleaning & EDA"
   ]
  },
  {
   "cell_type": "code",
   "execution_count": 5,
   "id": "cb7ddaab",
   "metadata": {},
   "outputs": [
    {
     "data": {
      "text/plain": [
       "(864863, 74)"
      ]
     },
     "execution_count": 5,
     "metadata": {},
     "output_type": "execute_result"
    }
   ],
   "source": [
    "df.shape"
   ]
  },
  {
   "cell_type": "code",
   "execution_count": 6,
   "id": "9ad9d0d4",
   "metadata": {},
   "outputs": [],
   "source": [
    "df = df[['T_degC', 'Salnty', 'STheta', 'O2ml_L', 'Depthm']]"
   ]
  },
  {
   "cell_type": "code",
   "execution_count": 7,
   "id": "999ab3fc",
   "metadata": {},
   "outputs": [],
   "source": [
    "df = df.dropna()"
   ]
  },
  {
   "cell_type": "code",
   "execution_count": 8,
   "id": "e99eed02",
   "metadata": {},
   "outputs": [
    {
     "data": {
      "text/plain": [
       "(661268, 5)"
      ]
     },
     "execution_count": 8,
     "metadata": {},
     "output_type": "execute_result"
    }
   ],
   "source": [
    "df.shape"
   ]
  },
  {
   "cell_type": "code",
   "execution_count": 9,
   "id": "6f7f5832",
   "metadata": {},
   "outputs": [
    {
     "data": {
      "text/plain": [
       "(661268, 5)"
      ]
     },
     "execution_count": 9,
     "metadata": {},
     "output_type": "execute_result"
    }
   ],
   "source": [
    "# Remove Outliers (filter out where water density > 200 )\n",
    "df = df[df['STheta']<200]\n",
    "df.shape"
   ]
  },
  {
   "cell_type": "markdown",
   "id": "52f99400",
   "metadata": {},
   "source": [
    "# Part B - Train & Test Split"
   ]
  },
  {
   "cell_type": "code",
   "execution_count": 10,
   "id": "e836f219",
   "metadata": {},
   "outputs": [],
   "source": [
    "from sklearn.model_selection import train_test_split\n",
    "import numpy as np\n",
    "from sklearn.preprocessing import StandardScaler"
   ]
  },
  {
   "cell_type": "code",
   "execution_count": 11,
   "id": "92e2002b",
   "metadata": {},
   "outputs": [],
   "source": [
    "X = df.drop('T_degC', axis=1)\n",
    "y = df['T_degC']\n",
    "\n",
    "# Split into X/y Train and Test Sets\n",
    "X_train, X_test, y_train, y_test = train_test_split(X, y, test_size=0.2, random_state=777)"
   ]
  },
  {
   "cell_type": "code",
   "execution_count": 12,
   "id": "92c8c756",
   "metadata": {},
   "outputs": [
    {
     "data": {
      "text/plain": [
       "(661268, 4)"
      ]
     },
     "execution_count": 12,
     "metadata": {},
     "output_type": "execute_result"
    }
   ],
   "source": [
    "X.shape"
   ]
  },
  {
   "cell_type": "code",
   "execution_count": 13,
   "id": "aa809e7f",
   "metadata": {},
   "outputs": [
    {
     "data": {
      "text/plain": [
       "(661268,)"
      ]
     },
     "execution_count": 13,
     "metadata": {},
     "output_type": "execute_result"
    }
   ],
   "source": [
    "y.shape"
   ]
  },
  {
   "cell_type": "code",
   "execution_count": 14,
   "id": "042242dc",
   "metadata": {},
   "outputs": [],
   "source": [
    "scaler = StandardScaler()\n",
    "\n",
    "# Fit the StandardScaler to the data\n",
    "scaler.fit(X_train)\n",
    "\n",
    "# Transform the data using the fitted StandardScaler\n",
    "X_train_scaled = scaler.transform(X_train)\n",
    "X_test_scaled = scaler.transform(X_test)"
   ]
  },
  {
   "cell_type": "markdown",
   "id": "9d94a762",
   "metadata": {},
   "source": [
    "# Part C - Linear Regression with Sklearn"
   ]
  },
  {
   "cell_type": "code",
   "execution_count": 15,
   "id": "ab649f9a",
   "metadata": {},
   "outputs": [],
   "source": [
    "from sklearn.linear_model import LinearRegression\n",
    "\n",
    "# Instance of LinearRegression Class\n",
    "lin_reg = LinearRegression()\n",
    "\n",
    "# Fit the model\n",
    "model = lin_reg.fit(X_train_scaled, y_train)"
   ]
  },
  {
   "cell_type": "code",
   "execution_count": 16,
   "id": "93188bca",
   "metadata": {},
   "outputs": [
    {
     "data": {
      "text/plain": [
       "(array([ 1.63134329, -4.63396809,  0.29988205, -0.47550838]),\n",
       " 10.917750405471294)"
      ]
     },
     "execution_count": 16,
     "metadata": {},
     "output_type": "execute_result"
    }
   ],
   "source": [
    "model.coef_, model.intercept_"
   ]
  },
  {
   "cell_type": "code",
   "execution_count": 17,
   "id": "b675be10",
   "metadata": {},
   "outputs": [],
   "source": [
    "y_pred_sklearn = model.predict(X_test_scaled)"
   ]
  },
  {
   "cell_type": "code",
   "execution_count": 18,
   "id": "f963ab42",
   "metadata": {},
   "outputs": [
    {
     "data": {
      "text/plain": [
       "array([ 5.27875969,  3.94060321, 16.3084714 , ..., 10.06612188,\n",
       "        9.78492568,  8.38735213])"
      ]
     },
     "execution_count": 18,
     "metadata": {},
     "output_type": "execute_result"
    }
   ],
   "source": [
    "y_pred_sklearn #T_degC"
   ]
  },
  {
   "cell_type": "code",
   "execution_count": 19,
   "id": "ceb5ee2c",
   "metadata": {},
   "outputs": [
    {
     "name": "stdout",
     "output_type": "stream",
     "text": [
      "Mean Squared Error (MSE):  0.11067555865667496\n",
      "R-squared score:  0.9937843981539197\n",
      "Explained Variance Score:  0.9937844110363018\n"
     ]
    }
   ],
   "source": [
    "from sklearn.metrics import mean_squared_error, r2_score, explained_variance_score\n",
    "\n",
    "# Calculate the mean squared error (MSE) of the predictions\n",
    "mse = mean_squared_error(y_test, y_pred_sklearn)\n",
    "print(\"Mean Squared Error (MSE): \", mse)\n",
    "\n",
    "# Calculate the R-squared score of the model\n",
    "r2 = r2_score(y_test, y_pred_sklearn)\n",
    "print(\"R-squared score: \", r2)\n",
    "\n",
    "# Calculate the explained variance score of the model\n",
    "evs = explained_variance_score(y_test, y_pred_sklearn)\n",
    "print(\"Explained Variance Score: \", evs)"
   ]
  },
  {
   "cell_type": "code",
   "execution_count": 20,
   "id": "c5b48ae5",
   "metadata": {},
   "outputs": [
    {
     "data": {
      "text/plain": [
       "Text(0.5, 1.0, 'Actual vs. Predicted Temperatures (Sklearn - Test Set)')"
      ]
     },
     "execution_count": 20,
     "metadata": {},
     "output_type": "execute_result"
    },
    {
     "data": {
      "image/png": "[encoded data removed]",
      "text/plain": [
       "<Figure size 432x288 with 1 Axes>"
      ]
     },
     "metadata": {
      "needs_background": "light"
     },
     "output_type": "display_data"
    }
   ],
   "source": [
    "plt.scatter(y_test, y_pred_sklearn)\n",
    "\n",
    "plt.xlabel('Actual Temperatures')\n",
    "plt.ylabel('Predicted Temperatures')\n",
    "plt.title('Actual vs. Predicted Temperatures (Sklearn - Test Set)')"
   ]
  },
  {
   "cell_type": "markdown",
   "id": "6c5e811b",
   "metadata": {},
   "source": [
    "# Part D - Gradient Descent Mini-Batch"
   ]
  },
  {
   "cell_type": "code",
   "execution_count": 21,
   "id": "67f365b5",
   "metadata": {},
   "outputs": [],
   "source": [
    "from sklearn.preprocessing import add_dummy_feature\n",
    "\n",
    "np.random.seed(42)  # to make this code example reproducible\n",
    "\n",
    "X_train_scaled_dummy = add_dummy_feature(X_train_scaled)  # add x0 = 1 to each instance\n",
    "X_test_scaled_dummy = add_dummy_feature(X_test_scaled)"
   ]
  },
  {
   "cell_type": "code",
   "execution_count": 22,
   "id": "01851ab4",
   "metadata": {},
   "outputs": [],
   "source": [
    "def mgd(X_train_scaled_dummy, y_train, minibatch_size):\n",
    "    theta_path_mgd = []\n",
    "\n",
    "    n_iterations = 100\n",
    "    eta = 0.1\n",
    "    m = len(X_train_scaled_dummy)\n",
    "\n",
    "    np.random.seed(42)\n",
    "    theta = np.random.randn(5,1)  # random initialization\n",
    "\n",
    "    t = 0\n",
    "    for epoch in range(n_iterations):\n",
    "        shuffled_indices = np.random.permutation(m)\n",
    "        X_b_shuffled = X_train_scaled_dummy[shuffled_indices]\n",
    "        y_shuffled = np.array(y_train)[shuffled_indices]\n",
    "        for i in range(0, m, minibatch_size):\n",
    "            t += 1\n",
    "            xi = X_b_shuffled[i:i+minibatch_size]\n",
    "            yi = y_shuffled[i:i+minibatch_size]\n",
    "            yi = yi.reshape(-1, 1)  # reshape yi to match the shape of xi.dot(theta)\n",
    "            gradients = 2/minibatch_size * xi.T.dot(xi.dot(theta) - yi)\n",
    "            theta = theta - eta * gradients\n",
    "            theta_path_mgd.append(theta)\n",
    "            \n",
    "    return theta"
   ]
  },
  {
   "cell_type": "code",
   "execution_count": 23,
   "id": "385ff20e",
   "metadata": {},
   "outputs": [],
   "source": [
    "mgd_50 = mgd(X_train_scaled_dummy, y_train, 50)\n",
    "mgd_250 = mgd(X_train_scaled_dummy, y_train, 250)\n",
    "mgd_2000 = mgd(X_train_scaled_dummy, y_train, 2000)"
   ]
  },
  {
   "cell_type": "code",
   "execution_count": 24,
   "id": "d53d28b5",
   "metadata": {},
   "outputs": [],
   "source": [
    "y_pred_50 = X_test_scaled_dummy @ mgd_50 # @ = Matrix Multiplication\n",
    "y_pred_250 = X_test_scaled_dummy @ mgd_250\n",
    "y_pred_2000 = X_test_scaled_dummy @ mgd_2000"
   ]
  },
  {
   "cell_type": "code",
   "execution_count": 25,
   "id": "f0d13adf",
   "metadata": {},
   "outputs": [
    {
     "name": "stdout",
     "output_type": "stream",
     "text": [
      "Mean squared error for test data with mini-batch sizes of 50 is  0.11587021583751272\n",
      "R-squared for test data with mini-batch sizes of 50 is  0.993492663274468\n",
      "Explained variance for test data with mini-batch sizes of 50 is  0.9935074334835103\n"
     ]
    }
   ],
   "source": [
    "print(\"Mean squared error for test data with mini-batch sizes of 50 is \",mean_squared_error(y_test, y_pred_50))\n",
    "print(\"R-squared for test data with mini-batch sizes of 50 is \",r2_score(y_test, y_pred_50))\n",
    "print(\"Explained variance for test data with mini-batch sizes of 50 is \",explained_variance_score(y_test, y_pred_50))"
   ]
  },
  {
   "cell_type": "code",
   "execution_count": 26,
   "id": "109e479b",
   "metadata": {},
   "outputs": [
    {
     "name": "stdout",
     "output_type": "stream",
     "text": [
      "Mean squared error for test data with mini-batch sizes of 250 is  0.11199822750720768\n",
      "R-squared for test data with mini-batch sizes of 250 is  0.9937101163246802\n",
      "Explained variance for test data with mini-batch sizes of 250 is  0.9937224015174259\n"
     ]
    }
   ],
   "source": [
    "print(\"Mean squared error for test data with mini-batch sizes of 250 is \",mean_squared_error(y_test, y_pred_250))\n",
    "print(\"R-squared for test data with mini-batch sizes of 250 is \",r2_score(y_test, y_pred_250))\n",
    "print(\"Explained variance for test data with mini-batch sizes of 250 is \",explained_variance_score(y_test, y_pred_250))"
   ]
  },
  {
   "cell_type": "code",
   "execution_count": 27,
   "id": "13a0305c",
   "metadata": {},
   "outputs": [
    {
     "name": "stdout",
     "output_type": "stream",
     "text": [
      "Mean squared error for test data with mini-batch sizes of 2000 is  0.11069650152391655\n",
      "R-squared for test data with mini-batch sizes of 2000 is  0.993783221990674\n",
      "Explained variance for test data with mini-batch sizes of 2000 is  0.9937841828137167\n"
     ]
    }
   ],
   "source": [
    "print(\"Mean squared error for test data with mini-batch sizes of 2000 is \",mean_squared_error(y_test, y_pred_2000))\n",
    "print(\"R-squared for test data with mini-batch sizes of 2000 is \",r2_score(y_test, y_pred_2000))\n",
    "print(\"Explained variance for test data with mini-batch sizes of 2000 is \",explained_variance_score(y_test, y_pred_2000))"
   ]
  },
  {
   "cell_type": "code",
   "execution_count": 28,
   "id": "1dfd8718",
   "metadata": {},
   "outputs": [
    {
     "data": {
      "text/plain": [
       "Text(0.5, 1.0, 'Actual vs. Predicted Temperatures for mini-batch sizes of 50')"
      ]
     },
     "execution_count": 28,
     "metadata": {},
     "output_type": "execute_result"
    },
    {
     "data": {
      "image/png": "[encoded data removed]",
      "text/plain": [
       "<Figure size 432x288 with 1 Axes>"
      ]
     },
     "metadata": {
      "needs_background": "light"
     },
     "output_type": "display_data"
    }
   ],
   "source": [
    "plt.scatter(y_test, y_pred_50)\n",
    "\n",
    "plt.xlabel('Actual Temperatures')\n",
    "plt.ylabel('Predicted Temperatures')\n",
    "plt.title('Actual vs. Predicted Temperatures for mini-batch sizes of 50')"
   ]
  },
  {
   "cell_type": "code",
   "execution_count": 29,
   "id": "dd807b06",
   "metadata": {},
   "outputs": [
    {
     "data": {
      "text/plain": [
       "Text(0.5, 1.0, 'Actual vs. Predicted Temperatures for mini-batch sizes of 250')"
      ]
     },
     "execution_count": 29,
     "metadata": {},
     "output_type": "execute_result"
    },
    {
     "data": {
      "image/png": "[encoded data removed]",
      "text/plain": [
       "<Figure size 432x288 with 1 Axes>"
      ]
     },
     "metadata": {
      "needs_background": "light"
     },
     "output_type": "display_data"
    }
   ],
   "source": [
    "plt.scatter(y_test, y_pred_250)\n",
    "\n",
    "plt.xlabel('Actual Temperatures')\n",
    "plt.ylabel('Predicted Temperatures')\n",
    "plt.title('Actual vs. Predicted Temperatures for mini-batch sizes of 250')"
   ]
  },
  {
   "cell_type": "code",
   "execution_count": 30,
   "id": "94bcde5c",
   "metadata": {},
   "outputs": [
    {
     "data": {
      "text/plain": [
       "Text(0.5, 1.0, 'Actual vs. Predicted Temperatures for mini-batch sizes of 2000')"
      ]
     },
     "execution_count": 30,
     "metadata": {},
     "output_type": "execute_result"
    },
    {
     "data": {
      "image/png": "[encoded data removed]",
      "text/plain": [
       "<Figure size 432x288 with 1 Axes>"
      ]
     },
     "metadata": {
      "needs_background": "light"
     },
     "output_type": "display_data"
    }
   ],
   "source": [
    "plt.scatter(y_test, y_pred_2000)\n",
    "\n",
    "plt.xlabel('Actual Temperatures')\n",
    "plt.ylabel('Predicted Temperatures')\n",
    "plt.title('Actual vs. Predicted Temperatures for mini-batch sizes of 2000')"
   ]
  },
  {
   "cell_type": "code",
   "execution_count": 31,
   "id": "a9e00f7c",
   "metadata": {},
   "outputs": [],
   "source": [
    "y_train_50 = X_train_scaled_dummy @ mgd_50\n",
    "y_train_250 = X_train_scaled_dummy @ mgd_250\n",
    "y_train_2000 = X_train_scaled_dummy @ mgd_2000"
   ]
  },
  {
   "cell_type": "code",
   "execution_count": 32,
   "id": "b8d96214",
   "metadata": {},
   "outputs": [
    {
     "name": "stdout",
     "output_type": "stream",
     "text": [
      "Mean squared error for training data with theta of batch size 50 is  0.11516242783561079\n",
      "R-squared for training data with theta of batch size 50 is  0.9935507608421856\n",
      "Explained variance for training data with theta of batch size 50 is  0.9935666759673333\n"
     ]
    }
   ],
   "source": [
    "print(\"Mean squared error for training data with theta of batch size 50 is \",mean_squared_error(y_train, y_train_50))\n",
    "print(\"R-squared for training data with theta of batch size 50 is \",r2_score(y_train, y_train_50))\n",
    "print(\"Explained variance for training data with theta of batch size 50 is \",explained_variance_score(y_train, y_train_50))"
   ]
  },
  {
   "cell_type": "code",
   "execution_count": 33,
   "id": "2cb0b49f",
   "metadata": {},
   "outputs": [
    {
     "name": "stdout",
     "output_type": "stream",
     "text": [
      "Mean squared error for training data with theta of batch size 250 is  0.11173252569797036\n",
      "R-squared for training data with theta of batch size 250 is  0.9937428396268143\n",
      "Explained variance for training data with theta of batch size 250 is  0.9937560253470281\n"
     ]
    }
   ],
   "source": [
    "print(\"Mean squared error for training data with theta of batch size 250 is \",mean_squared_error(y_train, y_train_250))\n",
    "print(\"R-squared for training data with theta of batch size 250 is \",r2_score(y_train, y_train_250))\n",
    "print(\"Explained variance for training data with theta of batch size 250 is \",explained_variance_score(y_train, y_train_250))"
   ]
  },
  {
   "cell_type": "code",
   "execution_count": 34,
   "id": "2256ea56",
   "metadata": {},
   "outputs": [
    {
     "name": "stdout",
     "output_type": "stream",
     "text": [
      "Mean squared error for training data with theta of batch size 2000 is  0.11071426044371674\n",
      "R-squared for training data with theta of batch size 2000 is  0.9937998637472171\n",
      "Explained variance for training data with theta of batch size 2000 is  0.9938010626190004\n"
     ]
    }
   ],
   "source": [
    "print(\"Mean squared error for training data with theta of batch size 2000 is \",mean_squared_error(y_train, y_train_2000))\n",
    "print(\"R-squared for training data with theta of batch size 2000 is \",r2_score(y_train, y_train_2000))\n",
    "print(\"Explained variance for training data with theta of batch size 2000 is \",explained_variance_score(y_train, y_train_2000))"
   ]
  },
  {
   "cell_type": "markdown",
   "id": "c7ece204",
   "metadata": {},
   "source": [
    "# Part E - Conceptual Questions"
   ]
  },
  {
   "cell_type": "markdown",
   "id": "61303765",
   "metadata": {},
   "source": [
    "**1) Describe how parameter estimation in Gradient Descent differs from using the normal equation.**\n",
    "\n",
    "* Gradient descent (GD) updates the parameter values **iteratively** by minimizing a cost function like MSE. At each iteration the gradient of the cost function is calculated and updates the parameters in the direction of the negative gradient. GD also uses a learning rate to determine step sizes to speed up or slow down convergence as the algorithm attempts to find the minimum value (smallest error). You can tune hyperparameters like the learning rate or batch size.\n",
    "\n",
    "* The Normal Equation is different because rather than being iterative, it finds the **exact solution** for parameters of a linear model that minimize a cost function in 1 step. You don't have to tune hyperparameters such as learning rate since the solution is obtained by solving the system of linear equations derived from the cost function. \n",
    "\n",
    "**2) We used Mini-Batch Gradient descent here, but there are a variety of options for Gradient Descent. How is Mini-Batch Gradient Descent different from Stochastic Gradient Descent?**\n",
    "\n",
    "* With Stochastic Gradient Descent (SGD), parameters are updated using the **cost function gradient with respect to a single randomly chosen training example for each iteration**. This is faster than normal batch GD since it processes fewer data points for each iteration. The randomnes can make the covergence to the minimum more noisy.\n",
    "\n",
    "* Mini-Batch Gradient Descent (MBGD) on the other hand updates the **cost function gradient with respect to a small random subset (mini-batch) of the training set for each iteration**. It is a better balance of the efficiency but erraticness of SGD and the full Batch Gradient Descent that processes all data points for each iteration.\n",
    "\n",
    "\n",
    "**3) Identify your best-performing version of Gradient Descent and compare the error metrics for test data vs training data. Does this version of gradient descent show signs of overfitting? Explain.**\n",
    "\n",
    "* The best-performing version of GD was the mini-batch with a size 2,000 and an MSE of 0.11071 on Train and 0.11069 on Test. This version of GD does not show any signs of overfitting since the error and variance explained is very stable between the Train and Test sets.\n",
    "\n",
    "**4) Explain what the learning rate is for. Even though we did not, why might it be helpful to change the learning rate over time?**\n",
    "\n",
    "* The learning rate is a tuning parameter that determines the step size at each iteration. This can be helpful to adjust because it can speed up or slow down convergence as the algorithm tries to find the minimum of the cost function. If the learning rate is too high, you can end up missing / jumping over the minimum value. If the learning rate is too low, the converge may be very slow and may not even discover the minimum.\n",
    "\n",
    "**5) Why would a data scientist want to use early stopping in gradient descent?** \n",
    "\n",
    "* Early stopping halts the training process when the model's performance on the validation set starts to degrade or not improve. It is a regularization techinque used to stop a model from overfitting and it can reduce the time it takes to train a model."
   ]
  }
 ],
 "metadata": {
  "kernelspec": {
   "display_name": "Python 3 (ipykernel)",
   "language": "python",
   "name": "python3"
  },
  "language_info": {
   "codemirror_mode": {
    "name": "ipython",
    "version": 3
   },
   "file_extension": ".py",
   "mimetype": "text/x-python",
   "name": "python",
   "nbconvert_exporter": "python",
   "pygments_lexer": "ipython3",
   "version": "3.9.12"
  }
 },
 "nbformat": 4,
 "nbformat_minor": 5
}
