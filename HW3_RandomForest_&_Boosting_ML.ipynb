{
 "cells": [
  {
   "cell_type": "markdown",
   "id": "a0fc52b0",
   "metadata": {},
   "source": [
    "# Assignment #3: Random Forest + Boosting (Binary Classification)\n",
    "### Luke Schwenke\n",
    "### April 22, 2023\n"
   ]
  },
  {
   "cell_type": "code",
   "execution_count": 44,
   "id": "04b73075",
   "metadata": {},
   "outputs": [],
   "source": [
    "import pandas as pd\n",
    "import numpy as np\n",
    "from sklearn.model_selection import train_test_split, GridSearchCV, RandomizedSearchCV\n",
    "import numpy as np\n",
    "from sklearn.preprocessing import StandardScaler\n",
    "from sklearn.ensemble import RandomForestClassifier\n",
    "from sklearn.metrics import confusion_matrix, classification_report\n",
    "from sklearn.metrics import roc_curve, roc_auc_score, plot_roc_curve\n",
    "from sklearn.ensemble import AdaBoostClassifier\n",
    "from sklearn.ensemble import GradientBoostingClassifier\n",
    "from xgboost import XGBClassifier\n",
    "import xgboost as xgb\n",
    "import matplotlib.pyplot as plt"
   ]
  },
  {
   "cell_type": "code",
   "execution_count": 2,
   "id": "70cd376b",
   "metadata": {},
   "outputs": [],
   "source": [
    "adult_df = pd.read_csv('https://archive.ics.uci.edu/ml/machine-learning-databases/adult/adult.data', \n",
    "                       header = None, skipinitialspace=True)"
   ]
  },
  {
   "cell_type": "code",
   "execution_count": 3,
   "id": "90273ac9",
   "metadata": {},
   "outputs": [],
   "source": [
    "list_of_columns = [\"age\", \"workclass\", \"fnlwgt\", \"education\", \"education-num\", \"marital-status\", \"occupation\",\n",
    "                   \"relationship\", \"race\", \"sex\", \"capital-gain\", \"capital-loss\", \"hours-per-week\", \n",
    "                   \"native-country\", \"salary\"]\n",
    "\n",
    "adult_df.columns = list_of_columns"
   ]
  },
  {
   "cell_type": "code",
   "execution_count": 4,
   "id": "f0a0e391",
   "metadata": {},
   "outputs": [
    {
     "data": {
      "text/html": [
       "<div>\n",
       "<style scoped>\n",
       "    .dataframe tbody tr th:only-of-type {\n",
       "        vertical-align: middle;\n",
       "    }\n",
       "\n",
       "    .dataframe tbody tr th {\n",
       "        vertical-align: top;\n",
       "    }\n",
       "\n",
       "    .dataframe thead th {\n",
       "        text-align: right;\n",
       "    }\n",
       "</style>\n",
       "<table border=\"1\" class=\"dataframe\">\n",
       "  <thead>\n",
       "    <tr style=\"text-align: right;\">\n",
       "      <th></th>\n",
       "      <th>age</th>\n",
       "      <th>workclass</th>\n",
       "      <th>fnlwgt</th>\n",
       "      <th>education</th>\n",
       "      <th>education-num</th>\n",
       "      <th>marital-status</th>\n",
       "      <th>occupation</th>\n",
       "      <th>relationship</th>\n",
       "      <th>race</th>\n",
       "      <th>sex</th>\n",
       "      <th>capital-gain</th>\n",
       "      <th>capital-loss</th>\n",
       "      <th>hours-per-week</th>\n",
       "      <th>native-country</th>\n",
       "      <th>salary</th>\n",
       "    </tr>\n",
       "  </thead>\n",
       "  <tbody>\n",
       "    <tr>\n",
       "      <th>0</th>\n",
       "      <td>39</td>\n",
       "      <td>State-gov</td>\n",
       "      <td>77516</td>\n",
       "      <td>Bachelors</td>\n",
       "      <td>13</td>\n",
       "      <td>Never-married</td>\n",
       "      <td>Adm-clerical</td>\n",
       "      <td>Not-in-family</td>\n",
       "      <td>White</td>\n",
       "      <td>Male</td>\n",
       "      <td>2174</td>\n",
       "      <td>0</td>\n",
       "      <td>40</td>\n",
       "      <td>United-States</td>\n",
       "      <td>&lt;=50K</td>\n",
       "    </tr>\n",
       "    <tr>\n",
       "      <th>1</th>\n",
       "      <td>50</td>\n",
       "      <td>Self-emp-not-inc</td>\n",
       "      <td>83311</td>\n",
       "      <td>Bachelors</td>\n",
       "      <td>13</td>\n",
       "      <td>Married-civ-spouse</td>\n",
       "      <td>Exec-managerial</td>\n",
       "      <td>Husband</td>\n",
       "      <td>White</td>\n",
       "      <td>Male</td>\n",
       "      <td>0</td>\n",
       "      <td>0</td>\n",
       "      <td>13</td>\n",
       "      <td>United-States</td>\n",
       "      <td>&lt;=50K</td>\n",
       "    </tr>\n",
       "    <tr>\n",
       "      <th>2</th>\n",
       "      <td>38</td>\n",
       "      <td>Private</td>\n",
       "      <td>215646</td>\n",
       "      <td>HS-grad</td>\n",
       "      <td>9</td>\n",
       "      <td>Divorced</td>\n",
       "      <td>Handlers-cleaners</td>\n",
       "      <td>Not-in-family</td>\n",
       "      <td>White</td>\n",
       "      <td>Male</td>\n",
       "      <td>0</td>\n",
       "      <td>0</td>\n",
       "      <td>40</td>\n",
       "      <td>United-States</td>\n",
       "      <td>&lt;=50K</td>\n",
       "    </tr>\n",
       "  </tbody>\n",
       "</table>\n",
       "</div>"
      ],
      "text/plain": [
       "   age         workclass  fnlwgt  education  education-num  \\\n",
       "0   39         State-gov   77516  Bachelors             13   \n",
       "1   50  Self-emp-not-inc   83311  Bachelors             13   \n",
       "2   38           Private  215646    HS-grad              9   \n",
       "\n",
       "       marital-status         occupation   relationship   race   sex  \\\n",
       "0       Never-married       Adm-clerical  Not-in-family  White  Male   \n",
       "1  Married-civ-spouse    Exec-managerial        Husband  White  Male   \n",
       "2            Divorced  Handlers-cleaners  Not-in-family  White  Male   \n",
       "\n",
       "   capital-gain  capital-loss  hours-per-week native-country salary  \n",
       "0          2174             0              40  United-States  <=50K  \n",
       "1             0             0              13  United-States  <=50K  \n",
       "2             0             0              40  United-States  <=50K  "
      ]
     },
     "execution_count": 4,
     "metadata": {},
     "output_type": "execute_result"
    }
   ],
   "source": [
    "adult_df.head(3)"
   ]
  },
  {
   "cell_type": "code",
   "execution_count": 5,
   "id": "a4ff5002",
   "metadata": {},
   "outputs": [
    {
     "data": {
      "text/plain": [
       "(32561, 15)"
      ]
     },
     "execution_count": 5,
     "metadata": {},
     "output_type": "execute_result"
    }
   ],
   "source": [
    "adult_df.shape"
   ]
  },
  {
   "cell_type": "code",
   "execution_count": 6,
   "id": "d61a680a",
   "metadata": {},
   "outputs": [],
   "source": [
    "# Remove fnlwgt column\n",
    "adult_df = adult_df.drop(adult_df.columns[2], axis=1)"
   ]
  },
  {
   "cell_type": "code",
   "execution_count": 7,
   "id": "6e2d24ea",
   "metadata": {},
   "outputs": [],
   "source": [
    "binary_map = {'<=50K': 0, '>50K': 1}\n",
    "\n",
    "# replace the string values with binary values\n",
    "adult_df.replace(binary_map, inplace=True)"
   ]
  },
  {
   "cell_type": "code",
   "execution_count": 8,
   "id": "edbdcf86",
   "metadata": {},
   "outputs": [],
   "source": [
    "# Create X and y dataframes\n",
    "X = adult_df.drop('salary', axis=1)\n",
    "y = adult_df['salary']"
   ]
  },
  {
   "cell_type": "code",
   "execution_count": 9,
   "id": "e47fddc4",
   "metadata": {},
   "outputs": [],
   "source": [
    "# Dummy encode categorical columns\n",
    "X_encoded = pd.get_dummies(X)"
   ]
  },
  {
   "cell_type": "code",
   "execution_count": 10,
   "id": "1e03fc58",
   "metadata": {},
   "outputs": [
    {
     "data": {
      "text/plain": [
       "(32561, 107)"
      ]
     },
     "execution_count": 10,
     "metadata": {},
     "output_type": "execute_result"
    }
   ],
   "source": [
    "X_encoded.shape"
   ]
  },
  {
   "cell_type": "code",
   "execution_count": 11,
   "id": "526c2836",
   "metadata": {},
   "outputs": [],
   "source": [
    "# Split into X/y Train and Test Sets\n",
    "X_train, X_test, y_train, y_test = train_test_split(X_encoded, y, test_size=0.3, random_state=777)"
   ]
  },
  {
   "cell_type": "code",
   "execution_count": 12,
   "id": "3be7f299",
   "metadata": {},
   "outputs": [
    {
     "data": {
      "text/plain": [
       "True"
      ]
     },
     "execution_count": 12,
     "metadata": {},
     "output_type": "execute_result"
    }
   ],
   "source": [
    "# Verify both datasets have the same number of columns (107)\n",
    "X_train.shape[1] == X_test.shape[1]"
   ]
  },
  {
   "cell_type": "markdown",
   "id": "b47f8169",
   "metadata": {},
   "source": [
    "# Random Forest Classifer - Base Model"
   ]
  },
  {
   "cell_type": "code",
   "execution_count": 13,
   "id": "480ad467",
   "metadata": {},
   "outputs": [
    {
     "data": {
      "text/plain": [
       "RandomForestClassifier()"
      ]
     },
     "execution_count": 13,
     "metadata": {},
     "output_type": "execute_result"
    }
   ],
   "source": [
    "rf = RandomForestClassifier()\n",
    "rf.fit(X_train, y_train)"
   ]
  },
  {
   "cell_type": "code",
   "execution_count": 14,
   "id": "1539707d",
   "metadata": {},
   "outputs": [],
   "source": [
    "# Predict the Probabilities and Classes\n",
    "y_pred_prob = rf.predict_proba(X_test)\n",
    "y_pred_class = rf.predict(X_test)"
   ]
  },
  {
   "cell_type": "code",
   "execution_count": 15,
   "id": "987f3092",
   "metadata": {},
   "outputs": [
    {
     "name": "stdout",
     "output_type": "stream",
     "text": [
      "Confusion Matrix:\n",
      " [[6805  617]\n",
      " [ 878 1469]]\n",
      "Classification Report:\n",
      "               precision    recall  f1-score   support\n",
      "\n",
      "           0       0.89      0.92      0.90      7422\n",
      "           1       0.70      0.63      0.66      2347\n",
      "\n",
      "    accuracy                           0.85      9769\n",
      "   macro avg       0.79      0.77      0.78      9769\n",
      "weighted avg       0.84      0.85      0.84      9769\n",
      "\n"
     ]
    }
   ],
   "source": [
    "# Print the confusion matrix\n",
    "print(\"Confusion Matrix:\\n\", confusion_matrix(y_test, y_pred_class))\n",
    "\n",
    "# Print the classification report\n",
    "print(\"Classification Report:\\n\", classification_report(y_test, y_pred_class))"
   ]
  },
  {
   "cell_type": "code",
   "execution_count": 16,
   "id": "c8713981",
   "metadata": {},
   "outputs": [
    {
     "name": "stdout",
     "output_type": "stream",
     "text": [
      "0.7713870898445954\n"
     ]
    }
   ],
   "source": [
    "# Calculate the AUC score\n",
    "auc_score = roc_auc_score(y_test, y_pred_class)\n",
    "print(auc_score)"
   ]
  },
  {
   "cell_type": "code",
   "execution_count": 17,
   "id": "899a7e1d",
   "metadata": {},
   "outputs": [
    {
     "name": "stdout",
     "output_type": "stream",
     "text": [
      "Top 5 Features:\n",
      "1. age (0.2264)\n",
      "2. hours-per-week (0.1150)\n",
      "3. capital-gain (0.1004)\n",
      "4. marital-status_Married-civ-spouse (0.0706)\n",
      "5. education-num (0.0674)\n"
     ]
    }
   ],
   "source": [
    "importances = rf.feature_importances_\n",
    "\n",
    "# Sort feature importances in descending order\n",
    "indices = np.argsort(importances)[::-1]\n",
    "\n",
    "# Rearrange feature names so they match the sorted feature importances\n",
    "names = [X_train.columns[i] for i in indices]\n",
    "\n",
    "# Print the top 5 features\n",
    "print(\"Top 5 Features:\")\n",
    "for i in range(5):\n",
    "    print(f\"{i+1}. {names[i]} ({importances[indices[i]]:.4f})\")"
   ]
  },
  {
   "cell_type": "code",
   "execution_count": 18,
   "id": "3be351cd",
   "metadata": {},
   "outputs": [
    {
     "name": "stdout",
     "output_type": "stream",
     "text": [
      "Classification Report:\n",
      "               precision    recall  f1-score   support\n",
      "\n",
      "           0       0.98      0.99      0.99     17298\n",
      "           1       0.97      0.95      0.96      5494\n",
      "\n",
      "    accuracy                           0.98     22792\n",
      "   macro avg       0.98      0.97      0.97     22792\n",
      "weighted avg       0.98      0.98      0.98     22792\n",
      "\n"
     ]
    }
   ],
   "source": [
    "# Make predictions on Train dataset\n",
    "y_pred_class_train = rf.predict(X_train)\n",
    "\n",
    "# Print the classification report\n",
    "print(\"Classification Report:\\n\", classification_report(y_train, y_pred_class_train))"
   ]
  },
  {
   "cell_type": "markdown",
   "id": "b45fae80",
   "metadata": {},
   "source": [
    "There is evidence that the model is overfitting because the predictions on the Train dataset returns an accuracy of 98% whereas the Test predictions return an accuracy of 85%. This tells us **the model overfit a bit on the Training set and cannot generalize as well to unseen data.**"
   ]
  },
  {
   "cell_type": "markdown",
   "id": "53d09a88",
   "metadata": {},
   "source": [
    "# AdaBoost Classifier - GridSearch"
   ]
  },
  {
   "cell_type": "code",
   "execution_count": 19,
   "id": "fa164b4b",
   "metadata": {},
   "outputs": [
    {
     "data": {
      "text/plain": [
       "GridSearchCV(cv=5, estimator=AdaBoostClassifier(),\n",
       "             param_grid={'learning_rate': [0.2, 0.4, 0.6, 0.8, 1, 1.2],\n",
       "                         'n_estimators': [100, 200, 300, 400]},\n",
       "             scoring='roc_auc')"
      ]
     },
     "execution_count": 19,
     "metadata": {},
     "output_type": "execute_result"
    }
   ],
   "source": [
    "# Default AdaBoost\n",
    "ada = AdaBoostClassifier()\n",
    "\n",
    "# Define the parameter grid to search over\n",
    "param_grid = {'n_estimators': [100, 200, 300, 400],\n",
    "              'learning_rate': [0.2, 0.4, 0.6, 0.8, 1, 1.2]}\n",
    "\n",
    "# Define the GridSearchCV object with 5 cross-fold and \"roc_auc\" scoring\n",
    "grid_search = GridSearchCV(ada, param_grid, cv=5, scoring='roc_auc')\n",
    "\n",
    "# Fit the GridSearchCV object to the training data\n",
    "grid_search.fit(X_train, y_train)"
   ]
  },
  {
   "cell_type": "code",
   "execution_count": 20,
   "id": "59bfce70",
   "metadata": {},
   "outputs": [
    {
     "name": "stdout",
     "output_type": "stream",
     "text": [
      "Best parameters: {'learning_rate': 1.2, 'n_estimators': 400}\n",
      "Best score: 0.92\n"
     ]
    }
   ],
   "source": [
    "# Print the best parameters and their corresponding score\n",
    "print('Best parameters: {}'.format(grid_search.best_params_))\n",
    "print('Best score: {:.2f}'.format(grid_search.best_score_))\n",
    "\n",
    "# Make predictions on the testing data using the best estimator found by GridSearchCV\n",
    "y_pred_class = grid_search.best_estimator_.predict(X_test)\n",
    "y_pred_probs = grid_search.best_estimator_.predict_proba(X_test)"
   ]
  },
  {
   "cell_type": "code",
   "execution_count": 21,
   "id": "134c77a7",
   "metadata": {},
   "outputs": [
    {
     "name": "stdout",
     "output_type": "stream",
     "text": [
      "Confusion Matrix:\n",
      " [[6996  426]\n",
      " [ 832 1515]]\n",
      "Classification Report:\n",
      "               precision    recall  f1-score   support\n",
      "\n",
      "           0       0.89      0.94      0.92      7422\n",
      "           1       0.78      0.65      0.71      2347\n",
      "\n",
      "    accuracy                           0.87      9769\n",
      "   macro avg       0.84      0.79      0.81      9769\n",
      "weighted avg       0.87      0.87      0.87      9769\n",
      "\n"
     ]
    }
   ],
   "source": [
    "# Print the confusion matrix\n",
    "print(\"Confusion Matrix:\\n\", confusion_matrix(y_test, y_pred_class))\n",
    "\n",
    "# Print the classification report\n",
    "print(\"Classification Report:\\n\", classification_report(y_test, y_pred_class))"
   ]
  },
  {
   "cell_type": "code",
   "execution_count": 22,
   "id": "051286b1",
   "metadata": {},
   "outputs": [
    {
     "name": "stdout",
     "output_type": "stream",
     "text": [
      "ROC AUC: 0.79\n"
     ]
    }
   ],
   "source": [
    "# Calculate the ROC AUC score of the classifier\n",
    "roc_auc = roc_auc_score(y_test, y_pred_class)\n",
    "print('ROC AUC: {:.2f}'.format(roc_auc))"
   ]
  },
  {
   "cell_type": "code",
   "execution_count": 23,
   "id": "09f635f2",
   "metadata": {},
   "outputs": [
    {
     "name": "stdout",
     "output_type": "stream",
     "text": [
      "Top 5 Features:\n",
      "1. capital-gain (0.3625)\n",
      "2. capital-loss (0.2775)\n",
      "3. age (0.1050)\n",
      "4. hours-per-week (0.0525)\n",
      "5. education-num (0.0125)\n"
     ]
    }
   ],
   "source": [
    "importances = grid_search.best_estimator_.feature_importances_\n",
    "\n",
    "# Sort feature importances in descending order\n",
    "indices = np.argsort(importances)[::-1]\n",
    "\n",
    "# Rearrange feature names so they match the sorted feature importances\n",
    "names = [X_train.columns[i] for i in indices]\n",
    "\n",
    "# Print the top 5 features\n",
    "print(\"Top 5 Features:\")\n",
    "for i in range(5):\n",
    "    print(f\"{i+1}. {names[i]} ({importances[indices[i]]:.4f})\")"
   ]
  },
  {
   "cell_type": "code",
   "execution_count": 24,
   "id": "2306c9ff",
   "metadata": {},
   "outputs": [
    {
     "name": "stdout",
     "output_type": "stream",
     "text": [
      "Classification Report:\n",
      "               precision    recall  f1-score   support\n",
      "\n",
      "           0       0.89      0.94      0.92     17298\n",
      "           1       0.78      0.64      0.70      5494\n",
      "\n",
      "    accuracy                           0.87     22792\n",
      "   macro avg       0.84      0.79      0.81     22792\n",
      "weighted avg       0.87      0.87      0.87     22792\n",
      "\n"
     ]
    }
   ],
   "source": [
    "# Make predictions on Train dataset\n",
    "y_pred_class_train = grid_search.best_estimator_.predict(X_train)\n",
    "\n",
    "# Print the classification report\n",
    "print(\"Classification Report:\\n\", classification_report(y_train, y_pred_class_train))"
   ]
  },
  {
   "cell_type": "markdown",
   "id": "78fd1a52",
   "metadata": {},
   "source": [
    "Unlike the base RF classifier, **the AdaBoost classifier does not show signs of being overfit**. This is because values like accuracy are stable at 87% between the Train and Test set."
   ]
  },
  {
   "cell_type": "markdown",
   "id": "205db84f",
   "metadata": {},
   "source": [
    "# Gradient Boosting Classifier - GridSearch"
   ]
  },
  {
   "cell_type": "code",
   "execution_count": 25,
   "id": "e90508d2",
   "metadata": {},
   "outputs": [
    {
     "data": {
      "text/plain": [
       "GridSearchCV(cv=5, estimator=GradientBoostingClassifier(),\n",
       "             param_grid={'learning_rate': [0.05, 0.1, 0.5, 1.0],\n",
       "                         'max_depth': [1, 2, 3, 4],\n",
       "                         'n_estimators': [100, 200, 300, 400, 500]},\n",
       "             scoring='roc_auc')"
      ]
     },
     "execution_count": 25,
     "metadata": {},
     "output_type": "execute_result"
    }
   ],
   "source": [
    "# Default AdaBoost\n",
    "gb = GradientBoostingClassifier()\n",
    "\n",
    "# Define the parameter grid to search over\n",
    "param_grid = {'n_estimators': [100, 200, 300, 400, 500],\n",
    "              'learning_rate': [0.05, 0.1, 0.5, 1.0],\n",
    "              'max_depth': [1, 2, 3, 4]}\n",
    "\n",
    "# Define the GridSearchCV object with 5 cross-fold and \"roc_auc\" scoring\n",
    "grid_search = GridSearchCV(gb, param_grid, cv=5, scoring='roc_auc')\n",
    "\n",
    "# Fit the GridSearchCV object to the training data\n",
    "grid_search.fit(X_train, y_train)"
   ]
  },
  {
   "cell_type": "code",
   "execution_count": 26,
   "id": "d14f1c38",
   "metadata": {},
   "outputs": [
    {
     "name": "stdout",
     "output_type": "stream",
     "text": [
      "Best parameters: {'learning_rate': 0.05, 'max_depth': 4, 'n_estimators': 500}\n",
      "Best score: 0.93\n"
     ]
    }
   ],
   "source": [
    "# Print the best parameters and their corresponding score\n",
    "print('Best parameters: {}'.format(grid_search.best_params_))\n",
    "print('Best score: {:.2f}'.format(grid_search.best_score_))\n",
    "\n",
    "# Make predictions on the testing data using the best estimator found by GridSearchCV\n",
    "y_pred_class = grid_search.best_estimator_.predict(X_test)\n",
    "y_pred_probs = grid_search.best_estimator_.predict_proba(X_test)"
   ]
  },
  {
   "cell_type": "code",
   "execution_count": 27,
   "id": "9fa090f8",
   "metadata": {},
   "outputs": [
    {
     "name": "stdout",
     "output_type": "stream",
     "text": [
      "Confusion Matrix:\n",
      " [[7000  422]\n",
      " [ 790 1557]]\n",
      "Classification Report:\n",
      "               precision    recall  f1-score   support\n",
      "\n",
      "           0       0.90      0.94      0.92      7422\n",
      "           1       0.79      0.66      0.72      2347\n",
      "\n",
      "    accuracy                           0.88      9769\n",
      "   macro avg       0.84      0.80      0.82      9769\n",
      "weighted avg       0.87      0.88      0.87      9769\n",
      "\n"
     ]
    }
   ],
   "source": [
    "# Print the confusion matrix\n",
    "print(\"Confusion Matrix:\\n\", confusion_matrix(y_test, y_pred_class))\n",
    "\n",
    "# Print the classification report\n",
    "print(\"Classification Report:\\n\", classification_report(y_test, y_pred_class))"
   ]
  },
  {
   "cell_type": "code",
   "execution_count": 28,
   "id": "7fa52356",
   "metadata": {},
   "outputs": [
    {
     "name": "stdout",
     "output_type": "stream",
     "text": [
      "ROC AUC: 0.80\n"
     ]
    }
   ],
   "source": [
    "# Calculate the ROC AUC score of the classifier\n",
    "roc_auc = roc_auc_score(y_test, y_pred_class)\n",
    "print('ROC AUC: {:.2f}'.format(roc_auc))"
   ]
  },
  {
   "cell_type": "code",
   "execution_count": 29,
   "id": "67d2689e",
   "metadata": {},
   "outputs": [
    {
     "name": "stdout",
     "output_type": "stream",
     "text": [
      "Top 5 Features:\n",
      "1. marital-status_Married-civ-spouse (0.3581)\n",
      "2. capital-gain (0.1902)\n",
      "3. education-num (0.1878)\n",
      "4. age (0.0663)\n",
      "5. capital-loss (0.0595)\n"
     ]
    }
   ],
   "source": [
    "importances = grid_search.best_estimator_.feature_importances_\n",
    "\n",
    "# Sort feature importances in descending order\n",
    "indices = np.argsort(importances)[::-1]\n",
    "\n",
    "# Rearrange feature names so they match the sorted feature importances\n",
    "names = [X_train.columns[i] for i in indices]\n",
    "\n",
    "# Print the top 5 features\n",
    "print(\"Top 5 Features:\")\n",
    "for i in range(5):\n",
    "    print(f\"{i+1}. {names[i]} ({importances[indices[i]]:.4f})\")"
   ]
  },
  {
   "cell_type": "code",
   "execution_count": 30,
   "id": "4455f529",
   "metadata": {},
   "outputs": [
    {
     "name": "stdout",
     "output_type": "stream",
     "text": [
      "Classification Report:\n",
      "               precision    recall  f1-score   support\n",
      "\n",
      "           0       0.90      0.95      0.93     17298\n",
      "           1       0.81      0.69      0.74      5494\n",
      "\n",
      "    accuracy                           0.89     22792\n",
      "   macro avg       0.86      0.82      0.84     22792\n",
      "weighted avg       0.88      0.89      0.88     22792\n",
      "\n"
     ]
    }
   ],
   "source": [
    "# Make predictions on Train dataset\n",
    "y_pred_class_train = grid_search.best_estimator_.predict(X_train)\n",
    "\n",
    "# Print the classification report\n",
    "print(\"Classification Report:\\n\", classification_report(y_train, y_pred_class_train))"
   ]
  },
  {
   "cell_type": "markdown",
   "id": "7604c20d",
   "metadata": {},
   "source": [
    "**The GB model does not show signs of being overfit**. This is because there is consistency between the Train and Test set values in the respective classification reports."
   ]
  },
  {
   "cell_type": "markdown",
   "id": "77d8ae7c",
   "metadata": {},
   "source": [
    "# XGBoost - RandomizedSearchCV"
   ]
  },
  {
   "cell_type": "code",
   "execution_count": 31,
   "id": "16db0ff4",
   "metadata": {},
   "outputs": [
    {
     "data": {
      "text/plain": [
       "RandomizedSearchCV(cv=5,\n",
       "                   estimator=XGBClassifier(base_score=None, booster=None,\n",
       "                                           callbacks=None,\n",
       "                                           colsample_bylevel=None,\n",
       "                                           colsample_bynode=None,\n",
       "                                           colsample_bytree=None,\n",
       "                                           early_stopping_rounds=None,\n",
       "                                           enable_categorical=False,\n",
       "                                           eval_metric=None, feature_types=None,\n",
       "                                           gamma=None, gpu_id=None,\n",
       "                                           grow_policy=None,\n",
       "                                           importance_type=None,\n",
       "                                           interaction_constraints=None,\n",
       "                                           learning_rate...\n",
       "                                                  2.5, 2.75, 3.0, 3.25, 3.5,\n",
       "                                                  3.75, 4.0, 4.25, 4.5, 4.75,\n",
       "                                                  5.0],\n",
       "                                        'learning_rate': [0.1, 0.2,\n",
       "                                                          0.30000000000000004,\n",
       "                                                          0.4, 0.5, 0.6,\n",
       "                                                          0.7000000000000001,\n",
       "                                                          0.8, 0.9, 1.0, 1.1,\n",
       "                                                          1.2000000000000002,\n",
       "                                                          1.3000000000000003,\n",
       "                                                          1.4000000000000001,\n",
       "                                                          1.5000000000000002,\n",
       "                                                          1.6],\n",
       "                                        'max_depth': [1, 2],\n",
       "                                        'n_estimators': [100, 150, 200, 250,\n",
       "                                                         300, 350, 400, 450,\n",
       "                                                         500, 550, 600, 650,\n",
       "                                                         700, 750, 800, 850,\n",
       "                                                         900, 950, 1000]},\n",
       "                   scoring='roc_auc')"
      ]
     },
     "execution_count": 31,
     "metadata": {},
     "output_type": "execute_result"
    }
   ],
   "source": [
    "xgb = xgb.XGBClassifier()\n",
    "\n",
    "# Define the parameter grid to search over\n",
    "param_grid = {'n_estimators': list(range(100,1050,50)),\n",
    "              'learning_rate': list(np.arange(0.1,1.7,0.1)),\n",
    "              'max_depth': [1,2],\n",
    "              'gamma': list(np.arange(0,5.25,0.25))}\n",
    "\n",
    "# Define the GridSearchCV object with 5 cross-fold and \"roc_auc\" scoring\n",
    "random_search = RandomizedSearchCV(xgb, param_grid, cv=5, scoring='roc_auc')\n",
    "\n",
    "# Fit the GridSearchCV object to the training data\n",
    "random_search.fit(X_train, y_train)"
   ]
  },
  {
   "cell_type": "code",
   "execution_count": 32,
   "id": "b2c5e137",
   "metadata": {},
   "outputs": [
    {
     "name": "stdout",
     "output_type": "stream",
     "text": [
      "Best parameters: {'n_estimators': 550, 'max_depth': 2, 'learning_rate': 0.4, 'gamma': 0.25}\n",
      "Best score: 0.93\n"
     ]
    }
   ],
   "source": [
    "# Print the best parameters and their corresponding score\n",
    "print('Best parameters: {}'.format(random_search.best_params_))\n",
    "print('Best score: {:.2f}'.format(random_search.best_score_))\n",
    "\n",
    "# Make predictions on the testing data using the best estimator found by GridSearchCV\n",
    "y_pred_class = random_search.best_estimator_.predict(X_test)\n",
    "y_pred_probs = random_search.best_estimator_.predict_proba(X_test)"
   ]
  },
  {
   "cell_type": "code",
   "execution_count": 33,
   "id": "10889641",
   "metadata": {},
   "outputs": [
    {
     "name": "stdout",
     "output_type": "stream",
     "text": [
      "Confusion Matrix:\n",
      " [[7017  405]\n",
      " [ 811 1536]]\n",
      "Classification Report:\n",
      "               precision    recall  f1-score   support\n",
      "\n",
      "           0       0.90      0.95      0.92      7422\n",
      "           1       0.79      0.65      0.72      2347\n",
      "\n",
      "    accuracy                           0.88      9769\n",
      "   macro avg       0.84      0.80      0.82      9769\n",
      "weighted avg       0.87      0.88      0.87      9769\n",
      "\n"
     ]
    }
   ],
   "source": [
    "# Print the confusion matrix\n",
    "print(\"Confusion Matrix:\\n\", confusion_matrix(y_test, y_pred_class))\n",
    "\n",
    "# Print the classification report\n",
    "print(\"Classification Report:\\n\", classification_report(y_test, y_pred_class))"
   ]
  },
  {
   "cell_type": "code",
   "execution_count": 34,
   "id": "6a052dee",
   "metadata": {},
   "outputs": [
    {
     "name": "stdout",
     "output_type": "stream",
     "text": [
      "ROC AUC: 0.80\n"
     ]
    }
   ],
   "source": [
    "# Calculate the ROC AUC score of the classifier\n",
    "roc_auc = roc_auc_score(y_test, y_pred_class)\n",
    "print('ROC AUC: {:.2f}'.format(roc_auc))"
   ]
  },
  {
   "cell_type": "code",
   "execution_count": 35,
   "id": "68126d12",
   "metadata": {},
   "outputs": [
    {
     "name": "stdout",
     "output_type": "stream",
     "text": [
      "Top 5 Features:\n",
      "1. marital-status_Married-civ-spouse (0.3972)\n",
      "2. education-num (0.0841)\n",
      "3. occupation_Exec-managerial (0.0610)\n",
      "4. occupation_Prof-specialty (0.0301)\n",
      "5. relationship_Own-child (0.0294)\n"
     ]
    }
   ],
   "source": [
    "importances = random_search.best_estimator_.feature_importances_\n",
    "\n",
    "# Sort feature importances in descending order\n",
    "indices = np.argsort(importances)[::-1]\n",
    "\n",
    "# Rearrange feature names so they match the sorted feature importances\n",
    "names = [X_train.columns[i] for i in indices]\n",
    "\n",
    "# Print the top 5 features\n",
    "print(\"Top 5 Features:\")\n",
    "for i in range(5):\n",
    "    print(f\"{i+1}. {names[i]} ({importances[indices[i]]:.4f})\")"
   ]
  },
  {
   "cell_type": "code",
   "execution_count": 36,
   "id": "8854c35d",
   "metadata": {},
   "outputs": [
    {
     "name": "stdout",
     "output_type": "stream",
     "text": [
      "Classification Report:\n",
      "               precision    recall  f1-score   support\n",
      "\n",
      "           0       0.90      0.95      0.92     17298\n",
      "           1       0.80      0.67      0.73      5494\n",
      "\n",
      "    accuracy                           0.88     22792\n",
      "   macro avg       0.85      0.81      0.83     22792\n",
      "weighted avg       0.88      0.88      0.88     22792\n",
      "\n"
     ]
    }
   ],
   "source": [
    "# Make predictions on Train dataset\n",
    "y_pred_class_train = random_search.best_estimator_.predict(X_train)\n",
    "\n",
    "# Print the classification report\n",
    "print(\"Classification Report:\\n\", classification_report(y_train, y_pred_class_train))"
   ]
  },
  {
   "cell_type": "markdown",
   "id": "3b472d71",
   "metadata": {},
   "source": [
    "**The XGBoost model with Random Search does not show signs of being overfit**. The model output between Train and Test is stable with an accuracy of 87% vs. 88%."
   ]
  },
  {
   "cell_type": "markdown",
   "id": "3348a85d",
   "metadata": {},
   "source": [
    "# Concepts"
   ]
  },
  {
   "cell_type": "markdown",
   "id": "552682b2",
   "metadata": {},
   "source": [
    "a) The lecture notes describe the Gini Index which is the default criterion used for splitting in sklearn's version of RandomForestClassifier. How does the Gini Index work? (i.e. How is it used to build a top-performing model?). \n",
    "\n",
    "* The Gini Index is a measure that determines the best splits for each node. The Gini index is used to quantify the impurity of a dataset; the lower the Gini index, the more homogenous the dataset is, the higher the more random the data is. In a random forest classifier, this is specifically used during the construction of each individual decision tree in the ensemble. For each candidate feature, the Gini index is calculated for every possible split. The feature and split point with the lowest Gini index are chosen as the best split for the node. The dataset is then divided into two subsets based on this split. This is repeated until a tree is built. Many trees are built based off this criterion which then returns a strong model made of many trees.\n",
    "\n",
    "b) Describe how Random Forest is different from bagging & why this difference can yield improved results.\n",
    "\n",
    "* Random Forest is an extension of bagging that adds an extra layer of randomness to the process of combining decision trees into a final output. While RF also builds an ensemble of decision trees using bootstrap samples of the original dataset, RF introduces randomness during the tree construction process. Specifically, at each node of a decision tree, instead of considering all features for a split, Random Forest selects a random subset of features. This leads to improved results as it forces the individual trees in the ensemble to be more diverse and less correlated with each other.\n",
    "\n",
    "c) Describe the importance of the max_depth parameter in Random Forest. Do not just provide a definition, rather think through how bias-variance tradeoff might be impacted by the max_depth parameter.\n",
    "\n",
    "* When max_depth is set to a small value, the decision trees become more constrained, as they can only make a limited number of splits. In this case, the model tends to have high bias and low variance. High bias means that the model is overly simplistic and does not capture the underlying patterns in the data, which often results in underfitting. However, because the trees are shallow, they are less likely to overfit the training data and have lower variance. In general, a small max_depth can lead to a more stable model, but it might not perform well on complex datasets. On the other hand, when max_depth is set to a large value or left unconstrained, the decision trees can grow more complex and deeper. This allows them to fit the training data more closely, potentially capturing complex patterns and reducing bias. However, this increased complexity can lead to higher variance, as the trees are more likely to fit noise in the training data and overfit. In this case, the model might perform well on the training data but not generalize well to new, unseen data.\n",
    "\n",
    "d) What does the alpha parameter represent in AdaBoost? Please refer to chapter 7 of the Hands-On ML book if you are struggling.\n",
    "\n",
    "* The alpha parameter in AdaBoost represents the weight assigned to each individual base learner in the ensemble. It is determined by the performance of the base learner on the weighted training data, with better-performing learners having higher alpha values and more influence in the final model. \n",
    "\n",
    "e) In AdaBoost explain how the final predicted class is determined. Be sure to reference the alpha term in your explanation.\n",
    "\n",
    "* The final predicted class for a given input is determined by a weighted majority vote of the individual base learners in the ensemble. Each base learner contributes to the final prediction based on its assigned alpha value, which reflects its performance on the weighted training data during the training process.\n",
    "\n",
    "f) In Gradient Boosting, what is the role of the max_depth parameter? Why is it important to tune on this parameter?\n",
    "\n",
    "* In GB, the max_depth parameter controls the maximum depth of each decision tree in the ensemble. It determines how deep an individual tree can grow and, consequently, affects the complexity of the model. It is important to tune since a small max_depth will create shallow/smaller trees which may not capture complex patterns and lead to underfitting with high bias. Oppositely, a large max_depth will cause deep trees which can capture many aptters but be overfit with high variance.\n",
    "\n",
    "\n",
    "g) In Part (e) of Steps 2-5 you determined the top 5 predictors across each model. Do any predictors show up in the top 5 predictors for all three models? If so, comment on if this predictor makes sense given what you are attempting to predict. (Note: If you don't have any predictors showing up across all 3 predictors, explain one that shows up in 2 of them).\n",
    "\n",
    "* A few predictors consistenly showed as important across the models including: age, capital-gain, and education-num. All 3 of these variables make sense since we are trying to predict higher-income earners. Age is always a strong predictor of wealthy since older people have had more time to gain a higher salary, education levels are directly correlated with job prospects and income, and capital gains in the market are usually tied to people with higher incomes and more money to use.\n",
    "\n",
    "h) From the models run in steps 2-5, which performs the best based on the Classification Report? Support your reasoning with evidence from your test data and be sure to share the optimal hyperparameters found from your grid search.\n",
    "\n",
    "* The **best performing model on the test data was a tie between XGBoost and Gradient Boost which both had accuracies of 88% and AUC values of 80%**. The best XGBoost hyperparameters were as follows: 'n_estimators': 550, 'max_depth': 2, 'learning_rate': 0.4, 'gamma': 0.25. The best Gradient Boost hyperparameters were as follows: Best parameters: 'learning_rate': 0.05, 'max_depth': 4, 'n_estimators': 500.\n",
    "\n",
    "i) For your best performing model, plot out a ROC curve using your test data. Feel free to use sklearn, matplotlib or any other method in python. Describe what the x-axis & y-axis of the ROC curve tell us about a classifier.\n",
    "\n",
    "* See ROC curve plots below. The ROC curve is a graphical representation of the performance of a binary classifier. It plots the True Positive Rate (TPR) on the y-axis against the False Positive Rate (FPR) on the x-axis for various threshold values of the classifier. A straight line in the middle essentially indicates a coin toss of 50/50. Ideally you want it to curve upwards closer to a value of 100% meaning perfect classification."
   ]
  },
  {
   "cell_type": "code",
   "execution_count": 39,
   "id": "171cfd32",
   "metadata": {},
   "outputs": [],
   "source": [
    "# Gradient Boost\n",
    "y_pred_class = grid_search.best_estimator_.predict(X_test)\n",
    "\n",
    "fpr, tpr, thresholds = roc_curve(y_test, y_pred_class)\n",
    "roc_auc = roc_auc_score(y_test, y_pred_class)"
   ]
  },
  {
   "cell_type": "code",
   "execution_count": 40,
   "id": "aafc19e0",
   "metadata": {},
   "outputs": [
    {
     "data": {
      "image/png": "[encoded data removed]",
      "text/plain": [
       "<Figure size 432x288 with 1 Axes>"
      ]
     },
     "metadata": {
      "needs_background": "light"
     },
     "output_type": "display_data"
    }
   ],
   "source": [
    "plt.plot(fpr, tpr, label='ROC curve (AUC = %0.2f)' % roc_auc)\n",
    "plt.plot([0, 1], [0, 1], 'k--', label='Random guess')\n",
    "plt.xlim([0.0, 1.0])\n",
    "plt.ylim([0.0, 1.05])\n",
    "plt.xlabel('False Positive Rate')\n",
    "plt.ylabel('True Positive Rate')\n",
    "plt.title('Gradient Boost - Receiver Operating Characteristic (ROC) Curve')\n",
    "plt.legend(loc=\"lower right\")\n",
    "plt.show()"
   ]
  },
  {
   "cell_type": "code",
   "execution_count": 41,
   "id": "d7dc9f02",
   "metadata": {},
   "outputs": [],
   "source": [
    "# XGBoost\n",
    "y_pred_class = random_search.best_estimator_.predict(X_test)\n",
    "\n",
    "fpr, tpr, thresholds = roc_curve(y_test, y_pred_class)\n",
    "roc_auc = roc_auc_score(y_test, y_pred_class)"
   ]
  },
  {
   "cell_type": "code",
   "execution_count": 43,
   "id": "880a49d4",
   "metadata": {},
   "outputs": [
    {
     "data": {
      "image/png": "[encoded data removed]",
      "text/plain": [
       "<Figure size 432x288 with 1 Axes>"
      ]
     },
     "metadata": {
      "needs_background": "light"
     },
     "output_type": "display_data"
    }
   ],
   "source": [
    "plt.plot(fpr, tpr, label='ROC curve (AUC = %0.2f)' % roc_auc)\n",
    "plt.plot([0, 1], [0, 1], 'k--', label='Random guess')\n",
    "plt.xlim([0.0, 1.0])\n",
    "plt.ylim([0.0, 1.05])\n",
    "plt.xlabel('False Positive Rate')\n",
    "plt.ylabel('True Positive Rate')\n",
    "plt.title('XGBoost - Receiver Operating Characteristic (ROC) Curve')\n",
    "plt.legend(loc=\"lower right\")\n",
    "plt.show()"
   ]
  }
 ],
 "metadata": {
  "kernelspec": {
   "display_name": "Python 3 (ipykernel)",
   "language": "python",
   "name": "python3"
  },
  "language_info": {
   "codemirror_mode": {
    "name": "ipython",
    "version": 3
   },
   "file_extension": ".py",
   "mimetype": "text/x-python",
   "name": "python",
   "nbconvert_exporter": "python",
   "pygments_lexer": "ipython3",
   "version": "3.9.12"
  }
 },
 "nbformat": 4,
 "nbformat_minor": 5
}
