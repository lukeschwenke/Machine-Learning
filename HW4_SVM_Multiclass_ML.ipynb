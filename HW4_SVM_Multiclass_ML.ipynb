{
 "cells": [
  {
   "cell_type": "markdown",
   "id": "0fdac00e",
   "metadata": {},
   "source": [
    "# Assignment #4: Support Vector Machines (Multiclassification)\n",
    "\n",
    "### Luke Schwenke\n",
    "\n",
    "### April 29, 2023"
   ]
  },
  {
   "cell_type": "code",
   "execution_count": 1,
   "id": "0d5e49a9",
   "metadata": {},
   "outputs": [],
   "source": [
    "import pandas as pd\n",
    "import numpy as np\n",
    "from sklearn.model_selection import train_test_split, GridSearchCV, RandomizedSearchCV\n",
    "import numpy as np\n",
    "from sklearn.preprocessing import StandardScaler\n",
    "from sklearn.ensemble import RandomForestClassifier\n",
    "from sklearn.metrics import confusion_matrix, classification_report\n",
    "import matplotlib.pyplot as plt\n",
    "from sklearn.svm import SVC"
   ]
  },
  {
   "cell_type": "code",
   "execution_count": 2,
   "id": "314cb041",
   "metadata": {},
   "outputs": [],
   "source": [
    "import os\n",
    "os.chdir('/Users/lmschwenke/Downloads')"
   ]
  },
  {
   "cell_type": "code",
   "execution_count": 3,
   "id": "eb48ea6e",
   "metadata": {},
   "outputs": [],
   "source": [
    "train = pd.read_csv('train_data.csv')\n",
    "test = pd.read_csv('test_data.csv')"
   ]
  },
  {
   "cell_type": "code",
   "execution_count": 33,
   "id": "64d2ee77",
   "metadata": {},
   "outputs": [
    {
     "name": "stdout",
     "output_type": "stream",
     "text": [
      "(507, 148)\n",
      "(168, 148)\n"
     ]
    }
   ],
   "source": [
    "print(train.shape)\n",
    "print(test.shape)"
   ]
  },
  {
   "cell_type": "code",
   "execution_count": 34,
   "id": "aafa8e54",
   "metadata": {},
   "outputs": [
    {
     "data": {
      "text/html": [
       "<div>\n",
       "<style scoped>\n",
       "    .dataframe tbody tr th:only-of-type {\n",
       "        vertical-align: middle;\n",
       "    }\n",
       "\n",
       "    .dataframe tbody tr th {\n",
       "        vertical-align: top;\n",
       "    }\n",
       "\n",
       "    .dataframe thead th {\n",
       "        text-align: right;\n",
       "    }\n",
       "</style>\n",
       "<table border=\"1\" class=\"dataframe\">\n",
       "  <thead>\n",
       "    <tr style=\"text-align: right;\">\n",
       "      <th></th>\n",
       "      <th>class</th>\n",
       "      <th>BrdIndx</th>\n",
       "      <th>Area</th>\n",
       "      <th>Round</th>\n",
       "      <th>Bright</th>\n",
       "      <th>Compact</th>\n",
       "      <th>ShpIndx</th>\n",
       "      <th>Mean_G</th>\n",
       "      <th>Mean_R</th>\n",
       "      <th>Mean_NIR</th>\n",
       "      <th>...</th>\n",
       "      <th>SD_NIR_140</th>\n",
       "      <th>LW_140</th>\n",
       "      <th>GLCM1_140</th>\n",
       "      <th>Rect_140</th>\n",
       "      <th>GLCM2_140</th>\n",
       "      <th>Dens_140</th>\n",
       "      <th>Assym_140</th>\n",
       "      <th>NDVI_140</th>\n",
       "      <th>BordLngth_140</th>\n",
       "      <th>GLCM3_140</th>\n",
       "    </tr>\n",
       "  </thead>\n",
       "  <tbody>\n",
       "    <tr>\n",
       "      <th>0</th>\n",
       "      <td>concrete</td>\n",
       "      <td>1.32</td>\n",
       "      <td>131</td>\n",
       "      <td>0.81</td>\n",
       "      <td>222.74</td>\n",
       "      <td>1.66</td>\n",
       "      <td>2.18</td>\n",
       "      <td>192.94</td>\n",
       "      <td>235.11</td>\n",
       "      <td>240.15</td>\n",
       "      <td>...</td>\n",
       "      <td>31.15</td>\n",
       "      <td>5.04</td>\n",
       "      <td>0.80</td>\n",
       "      <td>0.58</td>\n",
       "      <td>8.56</td>\n",
       "      <td>0.82</td>\n",
       "      <td>0.98</td>\n",
       "      <td>-0.10</td>\n",
       "      <td>1512</td>\n",
       "      <td>1287.52</td>\n",
       "    </tr>\n",
       "    <tr>\n",
       "      <th>1</th>\n",
       "      <td>shadow</td>\n",
       "      <td>1.59</td>\n",
       "      <td>864</td>\n",
       "      <td>0.94</td>\n",
       "      <td>47.56</td>\n",
       "      <td>1.41</td>\n",
       "      <td>1.87</td>\n",
       "      <td>36.82</td>\n",
       "      <td>48.78</td>\n",
       "      <td>57.09</td>\n",
       "      <td>...</td>\n",
       "      <td>12.01</td>\n",
       "      <td>3.70</td>\n",
       "      <td>0.52</td>\n",
       "      <td>0.96</td>\n",
       "      <td>7.01</td>\n",
       "      <td>1.69</td>\n",
       "      <td>0.86</td>\n",
       "      <td>-0.14</td>\n",
       "      <td>196</td>\n",
       "      <td>2659.74</td>\n",
       "    </tr>\n",
       "    <tr>\n",
       "      <th>2</th>\n",
       "      <td>shadow</td>\n",
       "      <td>1.41</td>\n",
       "      <td>409</td>\n",
       "      <td>1.00</td>\n",
       "      <td>51.38</td>\n",
       "      <td>1.37</td>\n",
       "      <td>1.53</td>\n",
       "      <td>41.72</td>\n",
       "      <td>51.96</td>\n",
       "      <td>60.48</td>\n",
       "      <td>...</td>\n",
       "      <td>18.75</td>\n",
       "      <td>3.09</td>\n",
       "      <td>0.90</td>\n",
       "      <td>0.63</td>\n",
       "      <td>8.32</td>\n",
       "      <td>1.38</td>\n",
       "      <td>0.84</td>\n",
       "      <td>0.10</td>\n",
       "      <td>1198</td>\n",
       "      <td>720.38</td>\n",
       "    </tr>\n",
       "  </tbody>\n",
       "</table>\n",
       "<p>3 rows × 148 columns</p>\n",
       "</div>"
      ],
      "text/plain": [
       "       class  BrdIndx  Area  Round  Bright  Compact  ShpIndx  Mean_G  Mean_R  \\\n",
       "0  concrete      1.32   131   0.81  222.74     1.66     2.18  192.94  235.11   \n",
       "1    shadow      1.59   864   0.94   47.56     1.41     1.87   36.82   48.78   \n",
       "2    shadow      1.41   409   1.00   51.38     1.37     1.53   41.72   51.96   \n",
       "\n",
       "   Mean_NIR  ...  SD_NIR_140  LW_140  GLCM1_140  Rect_140  GLCM2_140  \\\n",
       "0    240.15  ...       31.15    5.04       0.80      0.58       8.56   \n",
       "1     57.09  ...       12.01    3.70       0.52      0.96       7.01   \n",
       "2     60.48  ...       18.75    3.09       0.90      0.63       8.32   \n",
       "\n",
       "   Dens_140  Assym_140  NDVI_140  BordLngth_140  GLCM3_140  \n",
       "0      0.82       0.98     -0.10           1512    1287.52  \n",
       "1      1.69       0.86     -0.14            196    2659.74  \n",
       "2      1.38       0.84      0.10           1198     720.38  \n",
       "\n",
       "[3 rows x 148 columns]"
      ]
     },
     "execution_count": 34,
     "metadata": {},
     "output_type": "execute_result"
    }
   ],
   "source": [
    "train.head(3)"
   ]
  },
  {
   "cell_type": "code",
   "execution_count": 31,
   "id": "868dd381",
   "metadata": {},
   "outputs": [
    {
     "data": {
      "text/plain": [
       "building     97\n",
       "concrete     93\n",
       "tree         89\n",
       "grass        83\n",
       "shadow       45\n",
       "asphalt      45\n",
       "car          21\n",
       "soil         20\n",
       "pool         14\n",
       "Name: class, dtype: int64"
      ]
     },
     "execution_count": 31,
     "metadata": {},
     "output_type": "execute_result"
    }
   ],
   "source": [
    "train['class'].value_counts()"
   ]
  },
  {
   "cell_type": "code",
   "execution_count": 5,
   "id": "5a879a3e",
   "metadata": {},
   "outputs": [],
   "source": [
    "train = train.dropna()\n",
    "test = test.dropna()"
   ]
  },
  {
   "cell_type": "code",
   "execution_count": 6,
   "id": "5fc94946",
   "metadata": {},
   "outputs": [
    {
     "data": {
      "text/plain": [
       "Index(['class', 'BrdIndx', 'Area', 'Round', 'Bright', 'Compact', 'ShpIndx',\n",
       "       'Mean_G', 'Mean_R', 'Mean_NIR',\n",
       "       ...\n",
       "       'SD_NIR_140', 'LW_140', 'GLCM1_140', 'Rect_140', 'GLCM2_140',\n",
       "       'Dens_140', 'Assym_140', 'NDVI_140', 'BordLngth_140', 'GLCM3_140'],\n",
       "      dtype='object', length=148)"
      ]
     },
     "execution_count": 6,
     "metadata": {},
     "output_type": "execute_result"
    }
   ],
   "source": [
    "train.columns"
   ]
  },
  {
   "cell_type": "code",
   "execution_count": 7,
   "id": "f8430c5f",
   "metadata": {},
   "outputs": [],
   "source": [
    "# Create X/y Train and Test\n",
    "X_train = train.drop('class', axis=1)\n",
    "y_train = train['class']\n",
    "\n",
    "X_test = test.drop('class', axis=1)\n",
    "y_test = test['class']"
   ]
  },
  {
   "cell_type": "code",
   "execution_count": 8,
   "id": "e819fe04",
   "metadata": {},
   "outputs": [],
   "source": [
    "# Scale X_train\n",
    "scaler = StandardScaler()\n",
    "scaler.fit(X_train)\n",
    "X_train = pd.DataFrame(scaler.transform(X_train), columns=X_train.columns)\n",
    "\n",
    "# Scale X_test\n",
    "scaler.fit(X_test)\n",
    "X_test = pd.DataFrame(scaler.transform(X_test), columns=X_test.columns)"
   ]
  },
  {
   "cell_type": "markdown",
   "id": "48b666fb",
   "metadata": {},
   "source": [
    "## Random Forest Classifier - Base Model"
   ]
  },
  {
   "cell_type": "code",
   "execution_count": 9,
   "id": "3f080ff3",
   "metadata": {},
   "outputs": [
    {
     "data": {
      "text/plain": [
       "RandomForestClassifier()"
      ]
     },
     "execution_count": 9,
     "metadata": {},
     "output_type": "execute_result"
    }
   ],
   "source": [
    "rf = RandomForestClassifier()\n",
    "rf.fit(X_train, y_train)"
   ]
  },
  {
   "cell_type": "code",
   "execution_count": 10,
   "id": "a355d302",
   "metadata": {},
   "outputs": [],
   "source": [
    "y_pred_class = rf.predict(X_test)"
   ]
  },
  {
   "cell_type": "code",
   "execution_count": 11,
   "id": "38773a47",
   "metadata": {},
   "outputs": [
    {
     "name": "stdout",
     "output_type": "stream",
     "text": [
      "Random Forest Base Test - Confusion Matrix:\n",
      " [[14  0  0  0  0  0  0  0  0]\n",
      " [ 1 19  0  4  1  0  0  0  0]\n",
      " [ 0  1 13  0  0  1  0  0  0]\n",
      " [ 0  2  0 20  0  0  0  1  0]\n",
      " [ 0  0  0  0 25  0  0  0  4]\n",
      " [ 1  0  1  0  0 13  0  0  0]\n",
      " [ 3  0  0  0  0  0 13  0  0]\n",
      " [ 0  1  0  5  2  0  0  6  0]\n",
      " [ 0  0  0  1  1  0  0  0 15]] \n",
      "\n",
      "\n",
      "Random Forest Base Test - Classification Report:\n",
      "               precision    recall  f1-score   support\n",
      "\n",
      "    asphalt        0.74      1.00      0.85        14\n",
      "   building        0.83      0.76      0.79        25\n",
      "        car        0.93      0.87      0.90        15\n",
      "   concrete        0.67      0.87      0.75        23\n",
      "      grass        0.86      0.86      0.86        29\n",
      "       pool        0.93      0.87      0.90        15\n",
      "     shadow        1.00      0.81      0.90        16\n",
      "       soil        0.86      0.43      0.57        14\n",
      "       tree        0.79      0.88      0.83        17\n",
      "\n",
      "    accuracy                           0.82       168\n",
      "   macro avg       0.84      0.82      0.82       168\n",
      "weighted avg       0.84      0.82      0.82       168\n",
      "\n"
     ]
    }
   ],
   "source": [
    "print(\"Random Forest Base Test - Confusion Matrix:\\n\", confusion_matrix(y_test, y_pred_class),\"\\n\\n\")\n",
    "print(\"Random Forest Base Test - Classification Report:\\n\", classification_report(y_test, y_pred_class))"
   ]
  },
  {
   "cell_type": "code",
   "execution_count": 12,
   "id": "eb200afc",
   "metadata": {},
   "outputs": [
    {
     "name": "stdout",
     "output_type": "stream",
     "text": [
      "Random Forest Base Train - Confusion Matrix:\n",
      " [[45  0  0  0  0  0  0  0  0]\n",
      " [ 0 97  0  0  0  0  0  0  0]\n",
      " [ 0  0 21  0  0  0  0  0  0]\n",
      " [ 0  0  0 93  0  0  0  0  0]\n",
      " [ 0  0  0  0 83  0  0  0  0]\n",
      " [ 0  0  0  0  0 14  0  0  0]\n",
      " [ 0  0  0  0  0  0 45  0  0]\n",
      " [ 0  0  0  0  0  0  0 20  0]\n",
      " [ 0  0  0  0  0  0  0  0 89]] \n",
      "\n",
      "\n",
      "Random Forest Base Train - Classification Report:\n",
      "               precision    recall  f1-score   support\n",
      "\n",
      "    asphalt        1.00      1.00      1.00        45\n",
      "   building        1.00      1.00      1.00        97\n",
      "        car        1.00      1.00      1.00        21\n",
      "   concrete        1.00      1.00      1.00        93\n",
      "      grass        1.00      1.00      1.00        83\n",
      "       pool        1.00      1.00      1.00        14\n",
      "     shadow        1.00      1.00      1.00        45\n",
      "       soil        1.00      1.00      1.00        20\n",
      "       tree        1.00      1.00      1.00        89\n",
      "\n",
      "    accuracy                           1.00       507\n",
      "   macro avg       1.00      1.00      1.00       507\n",
      "weighted avg       1.00      1.00      1.00       507\n",
      "\n"
     ]
    }
   ],
   "source": [
    "y_pred_class_train = rf.predict(X_train)\n",
    "\n",
    "print(\"Random Forest Base Train - Confusion Matrix:\\n\", confusion_matrix(y_train, y_pred_class_train),\"\\n\\n\")\n",
    "print(\"Random Forest Base Train - Classification Report:\\n\", classification_report(y_train, y_pred_class_train))"
   ]
  },
  {
   "cell_type": "code",
   "execution_count": 13,
   "id": "85275464",
   "metadata": {},
   "outputs": [
    {
     "name": "stdout",
     "output_type": "stream",
     "text": [
      "Top 5 Features:\n",
      "1. NDVI (0.0476)\n",
      "2. Mean_NIR (0.0314)\n",
      "3. Mean_R_40 (0.0307)\n",
      "4. Mean_R (0.0278)\n",
      "5. Mean_NIR_40 (0.0267)\n"
     ]
    }
   ],
   "source": [
    "importances = rf.feature_importances_\n",
    "\n",
    "# Sort feature importances in descending order\n",
    "indices = np.argsort(importances)[::-1]\n",
    "\n",
    "# Rearrange feature names so they match the sorted feature importances\n",
    "names = [X_train.columns[i] for i in indices]\n",
    "\n",
    "# Print the top 5 features\n",
    "print(\"Top 5 Features:\")\n",
    "for i in range(5):\n",
    "    print(f\"{i+1}. {names[i]} ({importances[indices[i]]:.4f})\")"
   ]
  },
  {
   "cell_type": "markdown",
   "id": "aa32bcca",
   "metadata": {},
   "source": [
    "## Linear SVM Classifier - Base Model"
   ]
  },
  {
   "cell_type": "code",
   "execution_count": 14,
   "id": "1e3ee943",
   "metadata": {},
   "outputs": [
    {
     "data": {
      "text/plain": [
       "SVC(kernel='linear')"
      ]
     },
     "execution_count": 14,
     "metadata": {},
     "output_type": "execute_result"
    }
   ],
   "source": [
    "svm = SVC(kernel='linear')\n",
    "svm.fit(X_train, y_train)"
   ]
  },
  {
   "cell_type": "code",
   "execution_count": 15,
   "id": "685eb300",
   "metadata": {},
   "outputs": [
    {
     "name": "stdout",
     "output_type": "stream",
     "text": [
      "Linear SVM Base Test - Confusion Matrix:\n",
      " [[13  0  0  0  0  0  1  0  0]\n",
      " [ 0 22  1  2  0  0  0  0  0]\n",
      " [ 0  0 13  1  0  0  0  1  0]\n",
      " [ 0  4  0 16  0  0  0  3  0]\n",
      " [ 0  0  0  1 22  0  0  0  6]\n",
      " [ 0  2  0  0  0 12  1  0  0]\n",
      " [ 1  0  0  0  0  0 15  0  0]\n",
      " [ 0  0  1  4  3  0  0  6  0]\n",
      " [ 0  0  0  1  1  0  0  0 15]] \n",
      "\n",
      "\n",
      "Linear SVM Base Test - Classification Report:\n",
      "               precision    recall  f1-score   support\n",
      "\n",
      "    asphalt        0.93      0.93      0.93        14\n",
      "   building        0.79      0.88      0.83        25\n",
      "        car        0.87      0.87      0.87        15\n",
      "   concrete        0.64      0.70      0.67        23\n",
      "      grass        0.85      0.76      0.80        29\n",
      "       pool        1.00      0.80      0.89        15\n",
      "     shadow        0.88      0.94      0.91        16\n",
      "       soil        0.60      0.43      0.50        14\n",
      "       tree        0.71      0.88      0.79        17\n",
      "\n",
      "    accuracy                           0.80       168\n",
      "   macro avg       0.81      0.80      0.80       168\n",
      "weighted avg       0.80      0.80      0.80       168\n",
      "\n"
     ]
    }
   ],
   "source": [
    "svm_test_preds = svm.predict(X_test)\n",
    "\n",
    "print(\"Linear SVM Base Test - Confusion Matrix:\\n\", confusion_matrix(y_test, svm_test_preds),\"\\n\\n\")\n",
    "print(\"Linear SVM Base Test - Classification Report:\\n\", classification_report(y_test, svm_test_preds))"
   ]
  },
  {
   "cell_type": "code",
   "execution_count": 16,
   "id": "3ca8bfa1",
   "metadata": {},
   "outputs": [
    {
     "name": "stdout",
     "output_type": "stream",
     "text": [
      "Linear SVM Base Train - Confusion Matrix:\n",
      " [[45  0  0  0  0  0  0  0  0]\n",
      " [ 0 97  0  0  0  0  0  0  0]\n",
      " [ 0  0 21  0  0  0  0  0  0]\n",
      " [ 0  0  0 93  0  0  0  0  0]\n",
      " [ 0  0  0  0 83  0  0  0  0]\n",
      " [ 0  0  0  0  0 14  0  0  0]\n",
      " [ 0  0  0  0  0  0 45  0  0]\n",
      " [ 0  0  0  0  0  0  0 20  0]\n",
      " [ 0  0  0  0  0  0  0  0 89]] \n",
      "\n",
      "\n",
      "Linear SVM Base Train - Classification Report:\n",
      "               precision    recall  f1-score   support\n",
      "\n",
      "    asphalt        1.00      1.00      1.00        45\n",
      "   building        1.00      1.00      1.00        97\n",
      "        car        1.00      1.00      1.00        21\n",
      "   concrete        1.00      1.00      1.00        93\n",
      "      grass        1.00      1.00      1.00        83\n",
      "       pool        1.00      1.00      1.00        14\n",
      "     shadow        1.00      1.00      1.00        45\n",
      "       soil        1.00      1.00      1.00        20\n",
      "       tree        1.00      1.00      1.00        89\n",
      "\n",
      "    accuracy                           1.00       507\n",
      "   macro avg       1.00      1.00      1.00       507\n",
      "weighted avg       1.00      1.00      1.00       507\n",
      "\n"
     ]
    }
   ],
   "source": [
    "svm_train_preds = svm.predict(X_train)\n",
    "\n",
    "print(\"Linear SVM Base Train - Confusion Matrix:\\n\", confusion_matrix(y_train, svm_train_preds),\"\\n\\n\")\n",
    "print(\"Linear SVM Base Train - Classification Report:\\n\", classification_report(y_train, svm_train_preds))"
   ]
  },
  {
   "cell_type": "markdown",
   "id": "6789bc81",
   "metadata": {},
   "source": [
    "## Support Vector Machine Classifier + Linear Kernel + Grid Search"
   ]
  },
  {
   "cell_type": "code",
   "execution_count": 17,
   "id": "186779d9",
   "metadata": {},
   "outputs": [
    {
     "data": {
      "text/plain": [
       "GridSearchCV(cv=5, estimator=SVC(kernel='linear'),\n",
       "             param_grid={'C': array([0.01, 0.21, 0.41, 0.61, 0.81, 1.01, 1.21, 1.41, 1.61, 1.81, 2.01,\n",
       "       2.21, 2.41, 2.61, 2.81, 3.01, 3.21, 3.41, 3.61, 3.81, 4.01, 4.21,\n",
       "       4.41, 4.61, 4.81, 5.01, 5.21, 5.41, 5.61, 5.81, 6.01, 6.21, 6.41,\n",
       "       6.61, 6.81, 7.01, 7.21, 7.41, 7.61, 7.81, 8.01, 8.21, 8.41, 8.61,\n",
       "       8.81, 9.01, 9.21, 9.41, 9.61, 9.81])})"
      ]
     },
     "execution_count": 17,
     "metadata": {},
     "output_type": "execute_result"
    }
   ],
   "source": [
    "param_grid = {'C': np.arange(0.01, 10.01, 0.2)}\n",
    "\n",
    "svm = SVC(kernel='linear')\n",
    "\n",
    "# Perform grid search cross-validation to find the best hyperparameters\n",
    "grid_search = GridSearchCV(svm, param_grid=param_grid, cv=5, verbose=0)\n",
    "grid_search.fit(X_train, y_train)"
   ]
  },
  {
   "cell_type": "code",
   "execution_count": 18,
   "id": "2c8a58e9",
   "metadata": {},
   "outputs": [
    {
     "name": "stdout",
     "output_type": "stream",
     "text": [
      "Best parameters: {'C': 0.01}\n",
      "Mean test score: 0.809\n"
     ]
    }
   ],
   "source": [
    "print(f'Best parameters: {grid_search.best_params_}')\n",
    "print(f'Mean test score: {grid_search.best_score_:.3f}')\n",
    "\n",
    "# Use the best model to predict on test data\n",
    "best_model = grid_search.best_estimator_\n",
    "svm_grid_preds_test = best_model.predict(X_test)"
   ]
  },
  {
   "cell_type": "code",
   "execution_count": 19,
   "id": "44a8b030",
   "metadata": {},
   "outputs": [
    {
     "name": "stdout",
     "output_type": "stream",
     "text": [
      "SVM + Linear Kernel + Grid Search Test - Confusion Matrix:\n",
      " [[13  0  0  0  0  0  1  0  0]\n",
      " [ 0 22  0  2  1  0  0  0  0]\n",
      " [ 0  1 14  0  0  0  0  0  0]\n",
      " [ 0  3  0 19  0  0  0  1  0]\n",
      " [ 0  0  0  1 25  0  0  0  3]\n",
      " [ 0  1  0  0  0 13  1  0  0]\n",
      " [ 3  0  0  0  0  0 13  0  0]\n",
      " [ 0  1  0  6  3  0  0  4  0]\n",
      " [ 0  0  0  1  0  0  0  0 16]] \n",
      "\n",
      "\n",
      "SVM + Linear Kernel + Grid Search Test - Classification Report:\n",
      "               precision    recall  f1-score   support\n",
      "\n",
      "    asphalt        0.81      0.93      0.87        14\n",
      "   building        0.79      0.88      0.83        25\n",
      "        car        1.00      0.93      0.97        15\n",
      "   concrete        0.66      0.83      0.73        23\n",
      "      grass        0.86      0.86      0.86        29\n",
      "       pool        1.00      0.87      0.93        15\n",
      "     shadow        0.87      0.81      0.84        16\n",
      "       soil        0.80      0.29      0.42        14\n",
      "       tree        0.84      0.94      0.89        17\n",
      "\n",
      "    accuracy                           0.83       168\n",
      "   macro avg       0.85      0.82      0.81       168\n",
      "weighted avg       0.84      0.83      0.82       168\n",
      "\n"
     ]
    }
   ],
   "source": [
    "print(\"SVM + Linear Kernel + Grid Search Test - Confusion Matrix:\\n\", confusion_matrix(y_test, svm_grid_preds_test),\"\\n\\n\")\n",
    "print(\"SVM + Linear Kernel + Grid Search Test - Classification Report:\\n\", classification_report(y_test, svm_grid_preds_test))"
   ]
  },
  {
   "cell_type": "code",
   "execution_count": 20,
   "id": "e9950971",
   "metadata": {},
   "outputs": [
    {
     "name": "stdout",
     "output_type": "stream",
     "text": [
      "SVM + Linear Kernel + Grid Search Train - Confusion Matrix:\n",
      " [[40  0  0  0  0  0  5  0  0]\n",
      " [ 2 87  0  7  0  0  1  0  0]\n",
      " [ 0  1 19  1  0  0  0  0  0]\n",
      " [ 0  9  0 83  1  0  0  0  0]\n",
      " [ 0  1  0  0 70  0  0  0 12]\n",
      " [ 0  1  0  0  1 12  0  0  0]\n",
      " [ 1  0  0  0  0  0 43  0  1]\n",
      " [ 0  3  0  4  2  0  0 11  0]\n",
      " [ 0  0  0  0  3  0  1  0 85]] \n",
      "\n",
      "\n",
      "SVM + Linear Kernel + Grid Search Train - Classification Report:\n",
      "               precision    recall  f1-score   support\n",
      "\n",
      "    asphalt        0.93      0.89      0.91        45\n",
      "   building        0.85      0.90      0.87        97\n",
      "        car        1.00      0.90      0.95        21\n",
      "   concrete        0.87      0.89      0.88        93\n",
      "      grass        0.91      0.84      0.88        83\n",
      "       pool        1.00      0.86      0.92        14\n",
      "     shadow        0.86      0.96      0.91        45\n",
      "       soil        1.00      0.55      0.71        20\n",
      "       tree        0.87      0.96      0.91        89\n",
      "\n",
      "    accuracy                           0.89       507\n",
      "   macro avg       0.92      0.86      0.88       507\n",
      "weighted avg       0.89      0.89      0.89       507\n",
      "\n"
     ]
    }
   ],
   "source": [
    "svm_grid_preds_train = best_model.predict(X_train)\n",
    "\n",
    "print(\"SVM + Linear Kernel + Grid Search Train - Confusion Matrix:\\n\", confusion_matrix(y_train, svm_grid_preds_train),\"\\n\\n\")\n",
    "print(\"SVM + Linear Kernel + Grid Search Train - Classification Report:\\n\", classification_report(y_train, svm_grid_preds_train))"
   ]
  },
  {
   "cell_type": "markdown",
   "id": "32b883f6",
   "metadata": {},
   "source": [
    "##  Support Vector Machine Classifier + Polynomial Kernel + Grid Search"
   ]
  },
  {
   "cell_type": "code",
   "execution_count": 21,
   "id": "fe8d52cf",
   "metadata": {},
   "outputs": [
    {
     "data": {
      "text/plain": [
       "GridSearchCV(cv=5, estimator=SVC(kernel='poly'),\n",
       "             param_grid={'C': array([0.01, 0.21, 0.41, 0.61, 0.81, 1.01, 1.21, 1.41, 1.61, 1.81, 2.01,\n",
       "       2.21, 2.41, 2.61, 2.81, 3.01, 3.21, 3.41, 3.61, 3.81, 4.01, 4.21,\n",
       "       4.41, 4.61, 4.81, 5.01, 5.21, 5.41, 5.61, 5.81, 6.01, 6.21, 6.41,\n",
       "       6.61, 6.81, 7.01, 7.21, 7.41, 7.61, 7.81, 8.01, 8.21, 8.41, 8.61,\n",
       "       8.81, 9.01, 9.21, 9.41, 9.61, 9.81]),\n",
       "                         'degree': [2, 3, 4, 5, 6]})"
      ]
     },
     "execution_count": 21,
     "metadata": {},
     "output_type": "execute_result"
    }
   ],
   "source": [
    "param_grid = {'C': np.arange(0.01, 10.01, 0.2), 'degree': [2, 3, 4, 5, 6]}\n",
    "\n",
    "svm = SVC(kernel='poly')\n",
    "\n",
    "# Perform grid search cross-validation to find the best hyperparameters\n",
    "grid_search = GridSearchCV(svm, param_grid=param_grid, cv=5, verbose=0)\n",
    "grid_search.fit(X_train, y_train)"
   ]
  },
  {
   "cell_type": "code",
   "execution_count": 22,
   "id": "cb2fcd86",
   "metadata": {},
   "outputs": [
    {
     "name": "stdout",
     "output_type": "stream",
     "text": [
      "Best parameters: {'C': 3.81, 'degree': 3}\n",
      "Mean test score: 0.789\n"
     ]
    }
   ],
   "source": [
    "print(f'Best parameters: {grid_search.best_params_}')\n",
    "print(f'Mean test score: {grid_search.best_score_:.3f}')\n",
    "\n",
    "# Use the best model to predict on test data\n",
    "best_model = grid_search.best_estimator_\n",
    "svm_pred_test_poly = best_model.predict(X_test)"
   ]
  },
  {
   "cell_type": "code",
   "execution_count": 23,
   "id": "7ca96bda",
   "metadata": {},
   "outputs": [
    {
     "name": "stdout",
     "output_type": "stream",
     "text": [
      "SVM + Polynomial Kernel + Grid Search Test - Confusion Matrix:\n",
      " [[13  0  0  0  0  0  1  0  0]\n",
      " [ 0 18  0  4  3  0  0  0  0]\n",
      " [ 0  2 11  0  0  1  0  1  0]\n",
      " [ 0  3  0 19  1  0  0  0  0]\n",
      " [ 0  0  0  0 26  0  0  1  2]\n",
      " [ 0  4  0  0  0 10  1  0  0]\n",
      " [ 1  0  0  0  0  0 14  0  1]\n",
      " [ 0  1  0  5  8  0  0  0  0]\n",
      " [ 0  0  0  1  3  0  0  0 13]] \n",
      "\n",
      "\n",
      "SVM + Polynomial Kernel + Grid Search Test - Classification Report:\n",
      "               precision    recall  f1-score   support\n",
      "\n",
      "    asphalt        0.93      0.93      0.93        14\n",
      "   building        0.64      0.72      0.68        25\n",
      "        car        1.00      0.73      0.85        15\n",
      "   concrete        0.66      0.83      0.73        23\n",
      "      grass        0.63      0.90      0.74        29\n",
      "       pool        0.91      0.67      0.77        15\n",
      "     shadow        0.88      0.88      0.88        16\n",
      "       soil        0.00      0.00      0.00        14\n",
      "       tree        0.81      0.76      0.79        17\n",
      "\n",
      "    accuracy                           0.74       168\n",
      "   macro avg       0.72      0.71      0.71       168\n",
      "weighted avg       0.71      0.74      0.71       168\n",
      "\n"
     ]
    }
   ],
   "source": [
    "print(\"SVM + Polynomial Kernel + Grid Search Test - Confusion Matrix:\\n\", confusion_matrix(y_test, svm_pred_test_poly),\"\\n\\n\")\n",
    "print(\"SVM + Polynomial Kernel + Grid Search Test - Classification Report:\\n\", classification_report(y_test, svm_pred_test_poly))"
   ]
  },
  {
   "cell_type": "code",
   "execution_count": 24,
   "id": "b8ff1277",
   "metadata": {},
   "outputs": [
    {
     "name": "stdout",
     "output_type": "stream",
     "text": [
      "SVM + Polynomial Kernel + Grid Search Train - Confusion Matrix:\n",
      " [[44  0  0  0  1  0  0  0  0]\n",
      " [ 0 95  0  1  1  0  0  0  0]\n",
      " [ 0  0 20  0  1  0  0  0  0]\n",
      " [ 0  1  0 91  1  0  0  0  0]\n",
      " [ 0  1  0  0 81  0  0  0  1]\n",
      " [ 0  0  0  0  1 13  0  0  0]\n",
      " [ 0  0  0  0  0  0 45  0  0]\n",
      " [ 0  0  0  0 11  0  0  9  0]\n",
      " [ 0  0  0  0  5  0  0  0 84]] \n",
      "\n",
      "\n",
      "SVM + Polynomial Kernel + Grid Search Train - Classification Report:\n",
      "               precision    recall  f1-score   support\n",
      "\n",
      "    asphalt        1.00      0.98      0.99        45\n",
      "   building        0.98      0.98      0.98        97\n",
      "        car        1.00      0.95      0.98        21\n",
      "   concrete        0.99      0.98      0.98        93\n",
      "      grass        0.79      0.98      0.88        83\n",
      "       pool        1.00      0.93      0.96        14\n",
      "     shadow        1.00      1.00      1.00        45\n",
      "       soil        1.00      0.45      0.62        20\n",
      "       tree        0.99      0.94      0.97        89\n",
      "\n",
      "    accuracy                           0.95       507\n",
      "   macro avg       0.97      0.91      0.93       507\n",
      "weighted avg       0.96      0.95      0.95       507\n",
      "\n"
     ]
    }
   ],
   "source": [
    "svm_grid_preds_train_poly = best_model.predict(X_train)\n",
    "\n",
    "print(\"SVM + Polynomial Kernel + Grid Search Train - Confusion Matrix:\\n\", confusion_matrix(y_train, svm_grid_preds_train_poly),\"\\n\\n\")\n",
    "print(\"SVM + Polynomial Kernel + Grid Search Train - Classification Report:\\n\", classification_report(y_train, svm_grid_preds_train_poly))"
   ]
  },
  {
   "cell_type": "markdown",
   "id": "3cd6bc5a",
   "metadata": {},
   "source": [
    "## Support Vector Machine Classifier + RBF Kernel + Grid Search"
   ]
  },
  {
   "cell_type": "code",
   "execution_count": 25,
   "id": "e9eabf71",
   "metadata": {},
   "outputs": [
    {
     "data": {
      "text/plain": [
       "GridSearchCV(cv=5, estimator=SVC(),\n",
       "             param_grid={'C': array([1.000e-02, 2.100e-01, 4.100e-01, 6.100e-01, 8.100e-01, 1.010e+00,\n",
       "       1.210e+00, 1.410e+00, 1.610e+00, 1.810e+00, 2.010e+00, 2.210e+00,\n",
       "       2.410e+00, 2.610e+00, 2.810e+00, 3.010e+00, 3.210e+00, 3.410e+00,\n",
       "       3.610e+00, 3.810e+00, 4.010e+00, 4.210e+00, 4.410e+00, 4.610e+00,\n",
       "       4.810e+00, 5.010e+00, 5.210e+00, 5.410e+00, 5.610e+00, 5.810e+00,\n",
       "       6.010e+00, 6.210e+00, 6.410e+00, 6.610e+00, 6.810e+00, 7.010e+00,\n",
       "       7.210e+00, 7.410e+00, 7.610e+00, 7.810e+00, 8.010e+00, 8.210e+00,\n",
       "       8.410e+00, 8.610e+00, 8.810e+00, 9.010e+00, 9.210e+00, 9.410e+00,\n",
       "       9.610e+00, 9.810e+00, 1.001e+01]),\n",
       "                         'gamma': [0.01, 0.1, 1, 10, 100]})"
      ]
     },
     "execution_count": 25,
     "metadata": {},
     "output_type": "execute_result"
    }
   ],
   "source": [
    "param_grid = {'C': np.arange(0.01, 10.2, 0.2), 'gamma': [0.01, 0.1, 1, 10, 100]}\n",
    "\n",
    "# Initialize an SVM model with an RBF kernel\n",
    "svm = SVC(kernel='rbf')\n",
    "\n",
    "# Perform grid search\n",
    "grid_search = GridSearchCV(svm, param_grid=param_grid, cv=5, verbose=0)\n",
    "grid_search.fit(X_train, y_train)"
   ]
  },
  {
   "cell_type": "code",
   "execution_count": 26,
   "id": "5bf237cf",
   "metadata": {},
   "outputs": [
    {
     "name": "stdout",
     "output_type": "stream",
     "text": [
      "Best parameters: {'C': 2.81, 'gamma': 0.01}\n",
      "Mean test score: 0.828\n"
     ]
    }
   ],
   "source": [
    "# Print the best hyperparameters and the corresponding mean test score\n",
    "print(f'Best parameters: {grid_search.best_params_}')\n",
    "print(f'Mean test score: {grid_search.best_score_:.3f}')"
   ]
  },
  {
   "cell_type": "code",
   "execution_count": 27,
   "id": "f99ef198",
   "metadata": {},
   "outputs": [],
   "source": [
    "# Use the best model to predict on test data\n",
    "best_model = grid_search.best_estimator_\n",
    "y_pred_rbf_grid = best_model.predict(X_test)"
   ]
  },
  {
   "cell_type": "code",
   "execution_count": 28,
   "id": "ac9475bc",
   "metadata": {},
   "outputs": [
    {
     "name": "stdout",
     "output_type": "stream",
     "text": [
      "SVM + RBF Kernel + Grid Search Test - Confusion Matrix:\n",
      " [[13  0  0  0  0  0  1  0  0]\n",
      " [ 0 19  0  5  1  0  0  0  0]\n",
      " [ 0  0 14  1  0  0  0  0  0]\n",
      " [ 0  3  0 20  0  0  0  0  0]\n",
      " [ 0  1  0  0 24  0  0  0  4]\n",
      " [ 0  0  0  0  0 14  1  0  0]\n",
      " [ 1  0  0  1  0  0 14  0  0]\n",
      " [ 0  1  0  5  3  0  0  5  0]\n",
      " [ 0  0  0  1  0  0  0  0 16]] \n",
      "\n",
      "\n",
      "SVM + RBF Kernel + Grid Search Test - Classification Report:\n",
      "               precision    recall  f1-score   support\n",
      "\n",
      "    asphalt        0.93      0.93      0.93        14\n",
      "   building        0.79      0.76      0.78        25\n",
      "        car        1.00      0.93      0.97        15\n",
      "   concrete        0.61      0.87      0.71        23\n",
      "      grass        0.86      0.83      0.84        29\n",
      "       pool        1.00      0.93      0.97        15\n",
      "     shadow        0.88      0.88      0.88        16\n",
      "       soil        1.00      0.36      0.53        14\n",
      "       tree        0.80      0.94      0.86        17\n",
      "\n",
      "    accuracy                           0.83       168\n",
      "   macro avg       0.87      0.83      0.83       168\n",
      "weighted avg       0.85      0.83      0.82       168\n",
      "\n"
     ]
    }
   ],
   "source": [
    "print(\"SVM + RBF Kernel + Grid Search Test - Confusion Matrix:\\n\", confusion_matrix(y_test, y_pred_rbf_grid),\"\\n\\n\")\n",
    "print(\"SVM + RBF Kernel + Grid Search Test - Classification Report:\\n\", classification_report(y_test, y_pred_rbf_grid))"
   ]
  },
  {
   "cell_type": "code",
   "execution_count": 29,
   "id": "1e4fcd02",
   "metadata": {},
   "outputs": [
    {
     "name": "stdout",
     "output_type": "stream",
     "text": [
      "SVM + RBF Kernel + Grid Search Train - Confusion Matrix:\n",
      " [[45  0  0  0  0  0  0  0  0]\n",
      " [ 0 96  0  1  0  0  0  0  0]\n",
      " [ 0  0 21  0  0  0  0  0  0]\n",
      " [ 0  1  0 92  0  0  0  0  0]\n",
      " [ 0  1  0  0 81  0  0  0  1]\n",
      " [ 0  0  0  0  0 14  0  0  0]\n",
      " [ 0  0  0  0  0  0 45  0  0]\n",
      " [ 0  1  0  0  0  0  0 19  0]\n",
      " [ 0  0  0  0  1  0  0  0 88]] \n",
      "\n",
      "\n",
      "SVM + RBF Kernel + Grid Search Train - Classification Report:\n",
      "               precision    recall  f1-score   support\n",
      "\n",
      "    asphalt        1.00      1.00      1.00        45\n",
      "   building        0.97      0.99      0.98        97\n",
      "        car        1.00      1.00      1.00        21\n",
      "   concrete        0.99      0.99      0.99        93\n",
      "      grass        0.99      0.98      0.98        83\n",
      "       pool        1.00      1.00      1.00        14\n",
      "     shadow        1.00      1.00      1.00        45\n",
      "       soil        1.00      0.95      0.97        20\n",
      "       tree        0.99      0.99      0.99        89\n",
      "\n",
      "    accuracy                           0.99       507\n",
      "   macro avg       0.99      0.99      0.99       507\n",
      "weighted avg       0.99      0.99      0.99       507\n",
      "\n"
     ]
    }
   ],
   "source": [
    "y_pred_rbf_grid_train = best_model.predict(X_train)\n",
    "\n",
    "print(\"SVM + RBF Kernel + Grid Search Train - Confusion Matrix:\\n\", confusion_matrix(y_train, y_pred_rbf_grid_train),\"\\n\\n\")\n",
    "print(\"SVM + RBF Kernel + Grid Search Train - Classification Report:\\n\", classification_report(y_train, y_pred_rbf_grid_train))"
   ]
  },
  {
   "cell_type": "markdown",
   "id": "11070bee",
   "metadata": {},
   "source": [
    "## Concepts"
   ]
  },
  {
   "cell_type": "markdown",
   "id": "7b056047",
   "metadata": {},
   "source": [
    "1 - From the models run in steps 2-6, which performs the best based on the Classification Report? Support your reasoning with evidence around your test data. \n",
    "\n",
    "* The best performing model was **SVM with RBF Kernel** with a test set precision of 85%, recall of 83%, and f1-score of 83%. These were the highest values compared to the other models.\n",
    "\n",
    "2 - Compare models run for steps 4-6 where different kernels were used. What is the benefit of using a polynomial or rbf kernel over a linear kernel? What could be a downside of using a polynomial or rbf kernel? \n",
    "\n",
    "* The 3 SVM kernels performed well but the 2 strongest were between Linear and RBF, only differing slightly in their recall values. Additionally, the C values were quite different accross the 3 (0.01, 3.81, 2.81 for Linear, Poly, RBF).\n",
    "\n",
    "* The main benefit of using a polynomial or RBF kernel over a linear kernel is that they can capture more complex patterns in the data, allowing for more accurate predictions. This is particularly useful when the relationship between input variables and output variables is non-linear or when the data is not separable by a straight line.\n",
    "\n",
    "* The downsides is that they can be more computationally expensive than a linear kernel and can possibly overfit the model to the training data.\n",
    "\n",
    "3 - Explain the 'C' parameter used in steps 4-6. What does a small C mean versus a large C in sklearn? Why is it important to use the 'C' parameter when fitting a model? \n",
    "\n",
    "* The C parameter controls the distance between the decision boundary and the closest datapoints for each class. SVM wants to find the decision boundary that maximizes the margin while still correctly classifying all the training data.\n",
    "\n",
    "* A smaller value of C creates a wider margin at the cost of allowing some training examples to be misclassified. Conversely, a larger value of C creates a narrower margin, which may allow for fewer misclassifications. If C is too large, the model may overfit the training data and generalize poorly to new, unseen data. On the other hand, if C is too small, the model may underfit the training data, resulting in poor performance on both the training and test data. Therefore, it's important to choose an appropriate value of C that balances the trade-off between model complexity and generalization performance. This can be achieved through techniques such as grid search or cross-validation.\n",
    "\n",
    "4 - Scaling our input data does not matter much for Random Forest, but it is a critical step for Support Vector Machines. Explain why this is such a critical step. Also, provide an example of a feature from this data set that could cause issues with our SVMs if not scaled.\n",
    "\n",
    "* SVMs aim to find the decision boundary that maximizes the margin between classes, and the margin is affected by the scale of the input features. When input features have very different scales, the feature with the larger scale will have a greater influence on the decision boundary than the features with smaller scales. This can lead to biased results and make the SVM more likely to misclassify data points.\n",
    "\n",
    "* A lot of the features in this dataset are numeric but are on different scales. The Area column for example ranges between 22 and 5,767. Compared to some other columns in this dataset, these are very large numbers that would cause issues if not scaled.\n",
    "\n",
    "5 - Describe conceptually what the purpose of a kernel is for Support Vector Machines.\n",
    "\n",
    "* The purpose of a kernel in Support Vector Machines (SVM) is to transform the input data into a higher-dimensional space where it is easier to separate the different classes using a linear decision boundary. In other words, a kernel allows SVM to learn a nonlinear decision boundary in a transformed feature space without explicitly computing the coordinates of the data in that space.\n",
    "\n",
    "* By using a kernel, SVM can find a decision boundary that maximizes the margin between the classes in the transformed feature space. This can lead to better generalization performance and less overfitting compared to other classification algorithms that do not use a kernel, especially when the number of input features is large or when the data is not linearly separable in the original feature space."
   ]
  }
 ],
 "metadata": {
  "kernelspec": {
   "display_name": "Python 3 (ipykernel)",
   "language": "python",
   "name": "python3"
  },
  "language_info": {
   "codemirror_mode": {
    "name": "ipython",
    "version": 3
   },
   "file_extension": ".py",
   "mimetype": "text/x-python",
   "name": "python",
   "nbconvert_exporter": "python",
   "pygments_lexer": "ipython3",
   "version": "3.9.12"
  }
 },
 "nbformat": 4,
 "nbformat_minor": 5
}
